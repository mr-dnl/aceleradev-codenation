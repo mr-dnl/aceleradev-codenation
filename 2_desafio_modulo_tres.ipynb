{
  "nbformat": 4,
  "nbformat_minor": 0,
  "metadata": {
    "colab": {
      "name": "2-desafio-modulo-tres.ipynb",
      "provenance": [],
      "authorship_tag": "ABX9TyMH0IxIEk1tVol+do+0pUQZ"
    },
    "kernelspec": {
      "name": "python3",
      "display_name": "Python 3"
    }
  },
  "cells": [
    {
      "cell_type": "markdown",
      "metadata": {
        "id": "ARdb3GHpNNhh",
        "colab_type": "text"
      },
      "source": [
        "# Desafio Semana 3\n",
        "\n",
        "#### Conhecendo melhor nossa base de consumidores: qual estado possui os clientes com melhores pontuações de crédito?\n",
        "\n",
        "\n",
        "> Objetivo:<br />\n",
        " Queremos conhecer melhor nossos clientes por estado. Para isso, iniciamos uma análise na pontuação de crédito. \n",
        "Para realizar a verificação inicial, precisamos de alguns valores.\n",
        "Os valores são a média, a mediana, a moda e o desvio padrão da pontuação de crédito.\n",
        "\n",
        "\n",
        "> Tópicos: <br />\n",
        "Neste desafio você aprenderá:\n",
        "- Média;\n",
        "- Mediana;\n",
        "- Moda;\n",
        "- Desvio padrão.\n",
        "\n",
        "\n",
        "Detalhes\n",
        "A resposta deve conter os valores da média, mediana, moda e desvio padrão da pontuação de crédito para cada estado do dataset. O arquivo para submissão deve estar em formato json, conforme o arquivo exemplo “submission.json”.\n",
        "\n",
        "OBSERVAÇÃO: É recomendado utilizar Python e pandas para esse desafio, mas também é possível utilizar outras ferramentas e linguagens de programação.\n",
        "\n",
        "Descrição dos dados: ‘id’: Identificador do cliente ‘sobrenome’: Sobrenome do cliente ‘pontuacao_credito’: Pontuação de crédito do cliente (quanto maior, melhor o cliente geralmente) ‘estado_residencia’: Estado de residência do cliente ‘genero’: Gênero do cliente ‘nivel_estabilidade’: Nível de estabilidade do cliente ‘saldo_conta’: Saldo disponível na conta do cliente ‘numero_produtos’: Número de produtos que o cliente consome ‘possui_cartao_de_credito’: Possui um cartão de crédito cadastrado ‘membro_ativo’: Membro acessa e consome frequentemente\n",
        "\n",
        "Obs: Os dados são fictícios, mas tentam representar a realidade de uma base de clientes de um produto SaaS."
      ]
    },
    {
      "cell_type": "code",
      "metadata": {
        "id": "unuFJsufMZBM",
        "colab_type": "code",
        "colab": {}
      },
      "source": [
        "# Librarie\n",
        "import pandas as pd\n",
        "import numpy as np"
      ],
      "execution_count": 0,
      "outputs": []
    },
    {
      "cell_type": "code",
      "metadata": {
        "id": "S7Rifb0iMu2m",
        "colab_type": "code",
        "colab": {}
      },
      "source": [
        "# Import data\n",
        "df = pd.read_csv('sample_data/desafio1.csv')"
      ],
      "execution_count": 0,
      "outputs": []
    },
    {
      "cell_type": "code",
      "metadata": {
        "id": "Sa_ff0B6M8qO",
        "colab_type": "code",
        "outputId": "f35ded3d-130e-46e8-cc13-b79fb04bde51",
        "colab": {
          "base_uri": "https://localhost:8080/",
          "height": 224
        }
      },
      "source": [
        "# Checking structure\n",
        "df.head()"
      ],
      "execution_count": 0,
      "outputs": [
        {
          "output_type": "execute_result",
          "data": {
            "text/html": [
              "<div>\n",
              "<style scoped>\n",
              "    .dataframe tbody tr th:only-of-type {\n",
              "        vertical-align: middle;\n",
              "    }\n",
              "\n",
              "    .dataframe tbody tr th {\n",
              "        vertical-align: top;\n",
              "    }\n",
              "\n",
              "    .dataframe thead th {\n",
              "        text-align: right;\n",
              "    }\n",
              "</style>\n",
              "<table border=\"1\" class=\"dataframe\">\n",
              "  <thead>\n",
              "    <tr style=\"text-align: right;\">\n",
              "      <th></th>\n",
              "      <th>RowNumber</th>\n",
              "      <th>id</th>\n",
              "      <th>sobrenome</th>\n",
              "      <th>pontuacao_credito</th>\n",
              "      <th>estado_residencia</th>\n",
              "      <th>genero</th>\n",
              "      <th>idade</th>\n",
              "      <th>nivel_estabilidade</th>\n",
              "      <th>saldo_conta</th>\n",
              "      <th>numero_produtos</th>\n",
              "      <th>possui_cartao_de_credito</th>\n",
              "      <th>membro_ativo</th>\n",
              "    </tr>\n",
              "  </thead>\n",
              "  <tbody>\n",
              "    <tr>\n",
              "      <th>0</th>\n",
              "      <td>1</td>\n",
              "      <td>e7f44fcbd380d4cef7e6c232cc7e37895c3fd197</td>\n",
              "      <td>6d6e0aa1b9b413e442e2fb68df14b4fc3f91de50</td>\n",
              "      <td>619</td>\n",
              "      <td>SC</td>\n",
              "      <td>F</td>\n",
              "      <td>42</td>\n",
              "      <td>2</td>\n",
              "      <td>0.00</td>\n",
              "      <td>1</td>\n",
              "      <td>1</td>\n",
              "      <td>1</td>\n",
              "    </tr>\n",
              "    <tr>\n",
              "      <th>1</th>\n",
              "      <td>2</td>\n",
              "      <td>28dcb083ad90512da16b9430085c2cddb8ca5e12</td>\n",
              "      <td>48e1ad846796fa314f1b4a6702b83343eb5482c5</td>\n",
              "      <td>608</td>\n",
              "      <td>RS</td>\n",
              "      <td>F</td>\n",
              "      <td>41</td>\n",
              "      <td>1</td>\n",
              "      <td>83807.86</td>\n",
              "      <td>1</td>\n",
              "      <td>0</td>\n",
              "      <td>1</td>\n",
              "    </tr>\n",
              "    <tr>\n",
              "      <th>2</th>\n",
              "      <td>3</td>\n",
              "      <td>774bc378f787438c9c7594e536787d07a097a54b</td>\n",
              "      <td>f2b29d5d934de615812b697132e767dea0f1e9e2</td>\n",
              "      <td>502</td>\n",
              "      <td>SC</td>\n",
              "      <td>F</td>\n",
              "      <td>42</td>\n",
              "      <td>8</td>\n",
              "      <td>159660.80</td>\n",
              "      <td>3</td>\n",
              "      <td>1</td>\n",
              "      <td>0</td>\n",
              "    </tr>\n",
              "    <tr>\n",
              "      <th>3</th>\n",
              "      <td>4</td>\n",
              "      <td>043a71326f7096de155e7f0c559dc62b5e4b7239</td>\n",
              "      <td>85d5c9da7cddd8109ad32a6c348fe2bb10bf99f2</td>\n",
              "      <td>699</td>\n",
              "      <td>SC</td>\n",
              "      <td>F</td>\n",
              "      <td>39</td>\n",
              "      <td>1</td>\n",
              "      <td>0.00</td>\n",
              "      <td>2</td>\n",
              "      <td>0</td>\n",
              "      <td>0</td>\n",
              "    </tr>\n",
              "    <tr>\n",
              "      <th>4</th>\n",
              "      <td>5</td>\n",
              "      <td>37b3bb8ca243955fb3605ec7e1c2a4607cdb3b22</td>\n",
              "      <td>ddc89c837a6933639de75f28171057060bd322df</td>\n",
              "      <td>850</td>\n",
              "      <td>RS</td>\n",
              "      <td>F</td>\n",
              "      <td>43</td>\n",
              "      <td>2</td>\n",
              "      <td>125510.82</td>\n",
              "      <td>1</td>\n",
              "      <td>1</td>\n",
              "      <td>1</td>\n",
              "    </tr>\n",
              "  </tbody>\n",
              "</table>\n",
              "</div>"
            ],
            "text/plain": [
              "   RowNumber  ... membro_ativo\n",
              "0          1  ...            1\n",
              "1          2  ...            1\n",
              "2          3  ...            0\n",
              "3          4  ...            0\n",
              "4          5  ...            1\n",
              "\n",
              "[5 rows x 12 columns]"
            ]
          },
          "metadata": {
            "tags": []
          },
          "execution_count": 3
        }
      ]
    },
    {
      "cell_type": "code",
      "metadata": {
        "id": "pbQNfAzoMqHW",
        "colab_type": "code",
        "outputId": "69f1308a-73f3-4f99-fd7f-5ea1242599e2",
        "colab": {
          "base_uri": "https://localhost:8080/",
          "height": 170
        }
      },
      "source": [
        "# Checking basic statistc\n",
        "df['pontuacao_credito'].describe()"
      ],
      "execution_count": 0,
      "outputs": [
        {
          "output_type": "execute_result",
          "data": {
            "text/plain": [
              "count    7000.000000\n",
              "mean      649.787000\n",
              "std        97.046279\n",
              "min       350.000000\n",
              "25%       582.000000\n",
              "50%       651.000000\n",
              "75%       717.000000\n",
              "max       850.000000\n",
              "Name: pontuacao_credito, dtype: float64"
            ]
          },
          "metadata": {
            "tags": []
          },
          "execution_count": 9
        }
      ]
    },
    {
      "cell_type": "code",
      "metadata": {
        "id": "-jI__1hhu5JQ",
        "colab_type": "code",
        "outputId": "0d398fde-fb85-46bf-ad16-05d0e4bf5736",
        "colab": {
          "base_uri": "https://localhost:8080/",
          "height": 173
        }
      },
      "source": [
        "# Aggregating values to check basic statitcs\n",
        "df_resultado = df.groupby('estado_residencia')['pontuacao_credito'].agg([pd.Series.mode,\n",
        "                                                                         'median',\n",
        "                                                                         'mean',\n",
        "                                                                         'std']).T\n",
        "df_resultado"
      ],
      "execution_count": 0,
      "outputs": [
        {
          "output_type": "execute_result",
          "data": {
            "text/html": [
              "<div>\n",
              "<style scoped>\n",
              "    .dataframe tbody tr th:only-of-type {\n",
              "        vertical-align: middle;\n",
              "    }\n",
              "\n",
              "    .dataframe tbody tr th {\n",
              "        vertical-align: top;\n",
              "    }\n",
              "\n",
              "    .dataframe thead th {\n",
              "        text-align: right;\n",
              "    }\n",
              "</style>\n",
              "<table border=\"1\" class=\"dataframe\">\n",
              "  <thead>\n",
              "    <tr style=\"text-align: right;\">\n",
              "      <th>estado_residencia</th>\n",
              "      <th>PR</th>\n",
              "      <th>RS</th>\n",
              "      <th>SC</th>\n",
              "    </tr>\n",
              "  </thead>\n",
              "  <tbody>\n",
              "    <tr>\n",
              "      <th>mode</th>\n",
              "      <td>850.000000</td>\n",
              "      <td>850.000000</td>\n",
              "      <td>850.000000</td>\n",
              "    </tr>\n",
              "    <tr>\n",
              "      <th>median</th>\n",
              "      <td>650.000000</td>\n",
              "      <td>650.000000</td>\n",
              "      <td>653.000000</td>\n",
              "    </tr>\n",
              "    <tr>\n",
              "      <th>mean</th>\n",
              "      <td>648.961294</td>\n",
              "      <td>651.105143</td>\n",
              "      <td>649.537653</td>\n",
              "    </tr>\n",
              "    <tr>\n",
              "      <th>std</th>\n",
              "      <td>98.607186</td>\n",
              "      <td>95.136598</td>\n",
              "      <td>97.233493</td>\n",
              "    </tr>\n",
              "  </tbody>\n",
              "</table>\n",
              "</div>"
            ],
            "text/plain": [
              "estado_residencia          PR          RS          SC\n",
              "mode               850.000000  850.000000  850.000000\n",
              "median             650.000000  650.000000  653.000000\n",
              "mean               648.961294  651.105143  649.537653\n",
              "std                 98.607186   95.136598   97.233493"
            ]
          },
          "metadata": {
            "tags": []
          },
          "execution_count": 141
        }
      ]
    },
    {
      "cell_type": "code",
      "metadata": {
        "id": "VT1sgbnNQF66",
        "colab_type": "code",
        "colab": {}
      },
      "source": [
        "# Create list t\n",
        "dic_index = {'mode':'moda',\n",
        "             'median':'mediana',\n",
        "             'mean':'media',\n",
        "             'std':'desvio_padrao'}"
      ],
      "execution_count": 0,
      "outputs": []
    },
    {
      "cell_type": "code",
      "metadata": {
        "id": "f3xY-TnhJ987",
        "colab_type": "code",
        "colab": {}
      },
      "source": [
        "# Rename index\n",
        "df_resultado.rename(index=dic_index, inplace=True)"
      ],
      "execution_count": 0,
      "outputs": []
    },
    {
      "cell_type": "code",
      "metadata": {
        "id": "T0UhL97hTW8_",
        "colab_type": "code",
        "outputId": "19853f69-05ca-46a7-c863-b03f6fa462b5",
        "colab": {
          "base_uri": "https://localhost:8080/",
          "height": 173
        }
      },
      "source": [
        "# Checking changes\n",
        "df_resultado"
      ],
      "execution_count": 0,
      "outputs": [
        {
          "output_type": "execute_result",
          "data": {
            "text/html": [
              "<div>\n",
              "<style scoped>\n",
              "    .dataframe tbody tr th:only-of-type {\n",
              "        vertical-align: middle;\n",
              "    }\n",
              "\n",
              "    .dataframe tbody tr th {\n",
              "        vertical-align: top;\n",
              "    }\n",
              "\n",
              "    .dataframe thead th {\n",
              "        text-align: right;\n",
              "    }\n",
              "</style>\n",
              "<table border=\"1\" class=\"dataframe\">\n",
              "  <thead>\n",
              "    <tr style=\"text-align: right;\">\n",
              "      <th>estado_residencia</th>\n",
              "      <th>PR</th>\n",
              "      <th>RS</th>\n",
              "      <th>SC</th>\n",
              "    </tr>\n",
              "  </thead>\n",
              "  <tbody>\n",
              "    <tr>\n",
              "      <th>moda</th>\n",
              "      <td>850.000000</td>\n",
              "      <td>850.000000</td>\n",
              "      <td>850.000000</td>\n",
              "    </tr>\n",
              "    <tr>\n",
              "      <th>mediana</th>\n",
              "      <td>650.000000</td>\n",
              "      <td>650.000000</td>\n",
              "      <td>653.000000</td>\n",
              "    </tr>\n",
              "    <tr>\n",
              "      <th>media</th>\n",
              "      <td>648.961294</td>\n",
              "      <td>651.105143</td>\n",
              "      <td>649.537653</td>\n",
              "    </tr>\n",
              "    <tr>\n",
              "      <th>desvio_padrao</th>\n",
              "      <td>98.607186</td>\n",
              "      <td>95.136598</td>\n",
              "      <td>97.233493</td>\n",
              "    </tr>\n",
              "  </tbody>\n",
              "</table>\n",
              "</div>"
            ],
            "text/plain": [
              "estado_residencia          PR          RS          SC\n",
              "moda               850.000000  850.000000  850.000000\n",
              "mediana            650.000000  650.000000  653.000000\n",
              "media              648.961294  651.105143  649.537653\n",
              "desvio_padrao       98.607186   95.136598   97.233493"
            ]
          },
          "metadata": {
            "tags": []
          },
          "execution_count": 144
        }
      ]
    },
    {
      "cell_type": "code",
      "metadata": {
        "id": "iqU5xiPZoYyX",
        "colab_type": "code",
        "colab": {}
      },
      "source": [
        "# Export data to Json\n",
        "df_resultado.to_json('sample_data/submission.json')"
      ],
      "execution_count": 0,
      "outputs": []
    }
  ]
}