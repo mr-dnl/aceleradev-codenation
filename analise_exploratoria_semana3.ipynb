{
  "nbformat": 4,
  "nbformat_minor": 0,
  "metadata": {
    "colab": {
      "name": "analise-exploratoria-semana3.ipynb",
      "provenance": [],
      "collapsed_sections": [],
      "authorship_tag": "ABX9TyPaLfLf8kZxwiX8dqCoJSOc"
    },
    "kernelspec": {
      "name": "python3",
      "display_name": "Python 3"
    }
  },
  "cells": [
    {
      "cell_type": "markdown",
      "metadata": {
        "id": "u3ZVsXzgI3q6",
        "colab_type": "text"
      },
      "source": [
        "## Exploratory Data Analysis\n",
        "> AceleraDev: Codenation <br />\n",
        "> Week 3\n",
        "\n",
        "Daniel Santos Pereira | Data & B.I Analyst | Machine Learning in Training | MCP"
      ]
    },
    {
      "cell_type": "markdown",
      "metadata": {
        "id": "kHgebyckLYyp",
        "colab_type": "text"
      },
      "source": [
        "Data: https://www.kaggle.com/rubenssjr/brasilian-houses-to-rent"
      ]
    },
    {
      "cell_type": "markdown",
      "metadata": {
        "id": "2FsY1AqbcCbq",
        "colab_type": "text"
      },
      "source": [
        "Columns:\n",
        "\n",
        "\n",
        "\n",
        "* **city**: City where the property is located / Cidade onde o imóvel está localizada\n",
        "* **area**: Property area / Area do imovel\n",
        "* **rooms**: Quantity of rooms / Número de quartos\n",
        "* **bathroom**: Quantity of bathroom / Número de banheiros\n",
        "* **parking spaces**: Quantity of parking spaces / Número de vagas\n",
        "* **floor**: FLoor / Andar\n",
        "* **animal**: Acept animals? / Aceita animais?\n",
        "* **furniture**: Furniture? / Mobiliada?\n",
        "* **hoa(RS)**: Homeowners association tax / Valor do Condomínio\n",
        "* **rent amount(RS)**: Rent amount / Valor do Aluguel()\n",
        "* **property tax (RS)**: Property tax / IPTU\n",
        "* **fire insurance (RS)**: Fire Insurance / Seguro Incendio\n",
        "* **total(RS)**: Total / Valor Total"
      ]
    },
    {
      "cell_type": "markdown",
      "metadata": {
        "id": "46EJiGYAeDSo",
        "colab_type": "text"
      },
      "source": [
        "## Libraries\n"
      ]
    },
    {
      "cell_type": "code",
      "metadata": {
        "id": "QpYcw3fnIg3J",
        "colab_type": "code",
        "colab": {}
      },
      "source": [
        "import pandas as pd"
      ],
      "execution_count": 0,
      "outputs": []
    },
    {
      "cell_type": "code",
      "metadata": {
        "id": "oU3qRukJJq_0",
        "colab_type": "code",
        "colab": {}
      },
      "source": [
        "# Import data\n",
        "df = pd.read_csv(\"sample_data/houses_to_rent_v2.csv\")"
      ],
      "execution_count": 0,
      "outputs": []
    },
    {
      "cell_type": "markdown",
      "metadata": {
        "id": "2guU9lFnf5q1",
        "colab_type": "text"
      },
      "source": [
        "## Checking Structures Dataframe"
      ]
    },
    {
      "cell_type": "code",
      "metadata": {
        "id": "1E0lJ1CQfco4",
        "colab_type": "code",
        "colab": {
          "base_uri": "https://localhost:8080/",
          "height": 179
        },
        "outputId": "93b60ab6-ccb6-4094-cddb-c0ab47392f21"
      },
      "source": [
        "# Checking structures\n",
        "df.head(2)"
      ],
      "execution_count": 13,
      "outputs": [
        {
          "output_type": "execute_result",
          "data": {
            "text/html": [
              "<div>\n",
              "<style scoped>\n",
              "    .dataframe tbody tr th:only-of-type {\n",
              "        vertical-align: middle;\n",
              "    }\n",
              "\n",
              "    .dataframe tbody tr th {\n",
              "        vertical-align: top;\n",
              "    }\n",
              "\n",
              "    .dataframe thead th {\n",
              "        text-align: right;\n",
              "    }\n",
              "</style>\n",
              "<table border=\"1\" class=\"dataframe\">\n",
              "  <thead>\n",
              "    <tr style=\"text-align: right;\">\n",
              "      <th></th>\n",
              "      <th>city</th>\n",
              "      <th>area</th>\n",
              "      <th>rooms</th>\n",
              "      <th>bathroom</th>\n",
              "      <th>parking spaces</th>\n",
              "      <th>floor</th>\n",
              "      <th>animal</th>\n",
              "      <th>furniture</th>\n",
              "      <th>hoa (R$)</th>\n",
              "      <th>rent amount (R$)</th>\n",
              "      <th>property tax (R$)</th>\n",
              "      <th>fire insurance (R$)</th>\n",
              "      <th>total (R$)</th>\n",
              "    </tr>\n",
              "  </thead>\n",
              "  <tbody>\n",
              "    <tr>\n",
              "      <th>0</th>\n",
              "      <td>São Paulo</td>\n",
              "      <td>70</td>\n",
              "      <td>2</td>\n",
              "      <td>1</td>\n",
              "      <td>1</td>\n",
              "      <td>7</td>\n",
              "      <td>acept</td>\n",
              "      <td>furnished</td>\n",
              "      <td>2065</td>\n",
              "      <td>3300</td>\n",
              "      <td>211</td>\n",
              "      <td>42</td>\n",
              "      <td>5618</td>\n",
              "    </tr>\n",
              "    <tr>\n",
              "      <th>1</th>\n",
              "      <td>São Paulo</td>\n",
              "      <td>320</td>\n",
              "      <td>4</td>\n",
              "      <td>4</td>\n",
              "      <td>0</td>\n",
              "      <td>20</td>\n",
              "      <td>acept</td>\n",
              "      <td>not furnished</td>\n",
              "      <td>1200</td>\n",
              "      <td>4960</td>\n",
              "      <td>1750</td>\n",
              "      <td>63</td>\n",
              "      <td>7973</td>\n",
              "    </tr>\n",
              "  </tbody>\n",
              "</table>\n",
              "</div>"
            ],
            "text/plain": [
              "        city  area  rooms  ...  property tax (R$)  fire insurance (R$) total (R$)\n",
              "0  São Paulo    70      2  ...                211                   42       5618\n",
              "1  São Paulo   320      4  ...               1750                   63       7973\n",
              "\n",
              "[2 rows x 13 columns]"
            ]
          },
          "metadata": {
            "tags": []
          },
          "execution_count": 13
        }
      ]
    },
    {
      "cell_type": "code",
      "metadata": {
        "id": "w-CSvlx4f24T",
        "colab_type": "code",
        "colab": {
          "base_uri": "https://localhost:8080/",
          "height": 357
        },
        "outputId": "b3b1f797-7bf4-4555-ad82-04f0a01ed8fa"
      },
      "source": [
        "# DataFrame informations\n",
        "df.info()"
      ],
      "execution_count": 14,
      "outputs": [
        {
          "output_type": "stream",
          "text": [
            "<class 'pandas.core.frame.DataFrame'>\n",
            "RangeIndex: 10692 entries, 0 to 10691\n",
            "Data columns (total 13 columns):\n",
            " #   Column               Non-Null Count  Dtype \n",
            "---  ------               --------------  ----- \n",
            " 0   city                 10692 non-null  object\n",
            " 1   area                 10692 non-null  int64 \n",
            " 2   rooms                10692 non-null  int64 \n",
            " 3   bathroom             10692 non-null  int64 \n",
            " 4   parking spaces       10692 non-null  int64 \n",
            " 5   floor                10692 non-null  object\n",
            " 6   animal               10692 non-null  object\n",
            " 7   furniture            10692 non-null  object\n",
            " 8   hoa (R$)             10692 non-null  int64 \n",
            " 9   rent amount (R$)     10692 non-null  int64 \n",
            " 10  property tax (R$)    10692 non-null  int64 \n",
            " 11  fire insurance (R$)  10692 non-null  int64 \n",
            " 12  total (R$)           10692 non-null  int64 \n",
            "dtypes: int64(9), object(4)\n",
            "memory usage: 1.1+ MB\n"
          ],
          "name": "stdout"
        }
      ]
    },
    {
      "cell_type": "code",
      "metadata": {
        "id": "iIoR3X-Jf3Uy",
        "colab_type": "code",
        "colab": {
          "base_uri": "https://localhost:8080/",
          "height": 255
        },
        "outputId": "21957a46-1b7d-44e6-df8d-f117fd9a7900"
      },
      "source": [
        "# Checking quantity null values\n",
        "df.isna().sum()"
      ],
      "execution_count": 17,
      "outputs": [
        {
          "output_type": "execute_result",
          "data": {
            "text/plain": [
              "city                   0\n",
              "area                   0\n",
              "rooms                  0\n",
              "bathroom               0\n",
              "parking spaces         0\n",
              "floor                  0\n",
              "animal                 0\n",
              "furniture              0\n",
              "hoa (R$)               0\n",
              "rent amount (R$)       0\n",
              "property tax (R$)      0\n",
              "fire insurance (R$)    0\n",
              "total (R$)             0\n",
              "dtype: int64"
            ]
          },
          "metadata": {
            "tags": []
          },
          "execution_count": 17
        }
      ]
    },
    {
      "cell_type": "code",
      "metadata": {
        "id": "H0FR_Tlwf3dC",
        "colab_type": "code",
        "colab": {
          "base_uri": "https://localhost:8080/",
          "height": 255
        },
        "outputId": "c2ac5ad3-571e-499f-d27e-f0834f51fdb2"
      },
      "source": [
        "# Checking data types\n",
        "df.dtypes"
      ],
      "execution_count": 18,
      "outputs": [
        {
          "output_type": "execute_result",
          "data": {
            "text/plain": [
              "city                   object\n",
              "area                    int64\n",
              "rooms                   int64\n",
              "bathroom                int64\n",
              "parking spaces          int64\n",
              "floor                  object\n",
              "animal                 object\n",
              "furniture              object\n",
              "hoa (R$)                int64\n",
              "rent amount (R$)        int64\n",
              "property tax (R$)       int64\n",
              "fire insurance (R$)     int64\n",
              "total (R$)              int64\n",
              "dtype: object"
            ]
          },
          "metadata": {
            "tags": []
          },
          "execution_count": 18
        }
      ]
    },
    {
      "cell_type": "markdown",
      "metadata": {
        "id": "S-w_Yx4Bi9YN",
        "colab_type": "text"
      },
      "source": [
        "## Problem: Discovery the rental price (rent amount RS)\n",
        "\n",
        "\n",
        "### Univariate Statistics"
      ]
    },
    {
      "cell_type": "code",
      "metadata": {
        "id": "RXEFtbJWf3ki",
        "colab_type": "code",
        "colab": {
          "base_uri": "https://localhost:8080/",
          "height": 199
        },
        "outputId": "286b20d5-38ff-4b63-80c9-9a9ce55f6792"
      },
      "source": [
        "# Adjusting the column name\n",
        "## Note: When the average is greater than the median, there are outlaiers.\n",
        "\n",
        "df.rename(columns={'rent amount (R$)': 'valor_aluguel'}, inplace=True)\n",
        "df.head(2)"
      ],
      "execution_count": 20,
      "outputs": [
        {
          "output_type": "execute_result",
          "data": {
            "text/html": [
              "<div>\n",
              "<style scoped>\n",
              "    .dataframe tbody tr th:only-of-type {\n",
              "        vertical-align: middle;\n",
              "    }\n",
              "\n",
              "    .dataframe tbody tr th {\n",
              "        vertical-align: top;\n",
              "    }\n",
              "\n",
              "    .dataframe thead th {\n",
              "        text-align: right;\n",
              "    }\n",
              "</style>\n",
              "<table border=\"1\" class=\"dataframe\">\n",
              "  <thead>\n",
              "    <tr style=\"text-align: right;\">\n",
              "      <th></th>\n",
              "      <th>city</th>\n",
              "      <th>area</th>\n",
              "      <th>rooms</th>\n",
              "      <th>bathroom</th>\n",
              "      <th>parking spaces</th>\n",
              "      <th>floor</th>\n",
              "      <th>animal</th>\n",
              "      <th>furniture</th>\n",
              "      <th>hoa (R$)</th>\n",
              "      <th>valor_aluguel</th>\n",
              "      <th>property tax (R$)</th>\n",
              "      <th>fire insurance (R$)</th>\n",
              "      <th>total (R$)</th>\n",
              "    </tr>\n",
              "  </thead>\n",
              "  <tbody>\n",
              "    <tr>\n",
              "      <th>0</th>\n",
              "      <td>São Paulo</td>\n",
              "      <td>70</td>\n",
              "      <td>2</td>\n",
              "      <td>1</td>\n",
              "      <td>1</td>\n",
              "      <td>7</td>\n",
              "      <td>acept</td>\n",
              "      <td>furnished</td>\n",
              "      <td>2065</td>\n",
              "      <td>3300</td>\n",
              "      <td>211</td>\n",
              "      <td>42</td>\n",
              "      <td>5618</td>\n",
              "    </tr>\n",
              "    <tr>\n",
              "      <th>1</th>\n",
              "      <td>São Paulo</td>\n",
              "      <td>320</td>\n",
              "      <td>4</td>\n",
              "      <td>4</td>\n",
              "      <td>0</td>\n",
              "      <td>20</td>\n",
              "      <td>acept</td>\n",
              "      <td>not furnished</td>\n",
              "      <td>1200</td>\n",
              "      <td>4960</td>\n",
              "      <td>1750</td>\n",
              "      <td>63</td>\n",
              "      <td>7973</td>\n",
              "    </tr>\n",
              "  </tbody>\n",
              "</table>\n",
              "</div>"
            ],
            "text/plain": [
              "        city  area  rooms  ...  property tax (R$)  fire insurance (R$) total (R$)\n",
              "0  São Paulo    70      2  ...                211                   42       5618\n",
              "1  São Paulo   320      4  ...               1750                   63       7973\n",
              "\n",
              "[2 rows x 13 columns]"
            ]
          },
          "metadata": {
            "tags": []
          },
          "execution_count": 20
        }
      ]
    },
    {
      "cell_type": "code",
      "metadata": {
        "id": "8cu7VgmDf3rj",
        "colab_type": "code",
        "colab": {
          "base_uri": "https://localhost:8080/",
          "height": 34
        },
        "outputId": "7c7df8c3-8fb5-4611-b00e-f0e60ce0cccb"
      },
      "source": [
        "# Checking mean data\n",
        "df['valor_aluguel'].mean()"
      ],
      "execution_count": 22,
      "outputs": [
        {
          "output_type": "execute_result",
          "data": {
            "text/plain": [
              "3896.247194163861"
            ]
          },
          "metadata": {
            "tags": []
          },
          "execution_count": 22
        }
      ]
    },
    {
      "cell_type": "code",
      "metadata": {
        "id": "K3a9K0E2f3yS",
        "colab_type": "code",
        "colab": {
          "base_uri": "https://localhost:8080/",
          "height": 34
        },
        "outputId": "9d8ed2cf-7e3d-4fd0-ed8e-48ecc0c23cdc"
      },
      "source": [
        "# checking median data\n",
        "df['valor_aluguel'].median()"
      ],
      "execution_count": 23,
      "outputs": [
        {
          "output_type": "execute_result",
          "data": {
            "text/plain": [
              "2661.0"
            ]
          },
          "metadata": {
            "tags": []
          },
          "execution_count": 23
        }
      ]
    },
    {
      "cell_type": "code",
      "metadata": {
        "id": "xLPXhrtqf351",
        "colab_type": "code",
        "colab": {
          "base_uri": "https://localhost:8080/",
          "height": 34
        },
        "outputId": "29add393-a4f7-4e7a-d345-f464aeb3ce4a"
      },
      "source": [
        "# Checking Standard deviation\n",
        "## Note:\n",
        "## The standard deviation is almost the average value, there is a very large\n",
        "## dispersion with the rent values.\n",
        "df['valor_aluguel'].std()"
      ],
      "execution_count": 25,
      "outputs": [
        {
          "output_type": "execute_result",
          "data": {
            "text/plain": [
              "3408.5455176710816"
            ]
          },
          "metadata": {
            "tags": []
          },
          "execution_count": 25
        }
      ]
    },
    {
      "cell_type": "code",
      "metadata": {
        "id": "HlfUVj1ak16s",
        "colab_type": "code",
        "colab": {
          "base_uri": "https://localhost:8080/",
          "height": 170
        },
        "outputId": "a28d7599-5c6d-4164-88ec-ca1ef20ce3b8"
      },
      "source": [
        "# Checking basic statistical\n",
        "df['valor_aluguel'].describe()"
      ],
      "execution_count": 27,
      "outputs": [
        {
          "output_type": "execute_result",
          "data": {
            "text/plain": [
              "count    10692.000000\n",
              "mean      3896.247194\n",
              "std       3408.545518\n",
              "min        450.000000\n",
              "25%       1530.000000\n",
              "50%       2661.000000\n",
              "75%       5000.000000\n",
              "max      45000.000000\n",
              "Name: valor_aluguel, dtype: float64"
            ]
          },
          "metadata": {
            "tags": []
          },
          "execution_count": 27
        }
      ]
    },
    {
      "cell_type": "code",
      "metadata": {
        "id": "6hrJ8kmglaxD",
        "colab_type": "code",
        "colab": {
          "base_uri": "https://localhost:8080/",
          "height": 265
        },
        "outputId": "e79f22fa-988e-4f61-9b0d-d6a3d890a5d4"
      },
      "source": [
        "# With that, it is possible to observe that the data are between 450 and 5k\n",
        "# and 25% of the data are in 45000\n",
        "df['valor_aluguel'].plot(kind='hist', bins=100);"
      ],
      "execution_count": 30,
      "outputs": [
        {
          "output_type": "display_data",
          "data": {
            "image/png": "[encoded data removed]",
            "text/plain": [
              "<Figure size 432x288 with 1 Axes>"
            ]
          },
          "metadata": {
            "tags": [],
            "needs_background": "light"
          }
        }
      ]
    },
    {
      "cell_type": "code",
      "metadata": {
        "id": "CGZgkvcSmGUX",
        "colab_type": "code",
        "colab": {
          "base_uri": "https://localhost:8080/",
          "height": 34
        },
        "outputId": "0b6e74fc-a2a1-48a9-a305-1b3b9fee91ee"
      },
      "source": [
        "# Skewness positive skew\n",
        "df.valor_aluguel.skew()"
      ],
      "execution_count": 31,
      "outputs": [
        {
          "output_type": "execute_result",
          "data": {
            "text/plain": [
              "1.8388773035440982"
            ]
          },
          "metadata": {
            "tags": []
          },
          "execution_count": 31
        }
      ]
    },
    {
      "cell_type": "code",
      "metadata": {
        "id": "JV8W8N0XmNyl",
        "colab_type": "code",
        "colab": {
          "base_uri": "https://localhost:8080/",
          "height": 34
        },
        "outputId": "1d8d7b68-0580-46dc-9ae9-3e8b165f1b8c"
      },
      "source": [
        "# kurtose - leptocurtica\n",
        "df.valor_aluguel.kurtosis()"
      ],
      "execution_count": 33,
      "outputs": [
        {
          "output_type": "execute_result",
          "data": {
            "text/plain": [
              "4.624228179818687"
            ]
          },
          "metadata": {
            "tags": []
          },
          "execution_count": 33
        }
      ]
    },
    {
      "cell_type": "markdown",
      "metadata": {
        "id": "Pwn6YpGLEwuo",
        "colab_type": "text"
      },
      "source": [
        "## Multivariate Data Exploration"
      ]
    },
    {
      "cell_type": "markdown",
      "metadata": {
        "id": "9etzR9UBEbsm",
        "colab_type": "text"
      },
      "source": [
        "Questions\n",
        "> What I know?<br />\n",
        "> Who can inform me?\n",
        "\n",
        "* Which city has the highest average rent?\n",
        "* How many bathrooms are there in the higher rented homes?\n",
        "* Do the most expensive properties accept animals?\n",
        "* Are the most expensive properties furnished?"
      ]
    },
    {
      "cell_type": "markdown",
      "metadata": {
        "id": "7jZBUqdZFYBs",
        "colab_type": "text"
      },
      "source": [
        "Perguntas\n",
        "> O que eu sei?<br />\n",
        "> Quem pode me informar?\n",
        "\n",
        "* Qual a cidade com a média de aluguel mais alta?\n",
        "* Quantos banheiros existem nas residências com alugueis mais altos?\n",
        "* Os imóveis mais caros, aceitam animais?\n",
        "* Os imóveis mais caros, são mobiliados?\n"
      ]
    },
    {
      "cell_type": "code",
      "metadata": {
        "id": "iQnjT-bWE2Jk",
        "colab_type": "code",
        "colab": {
          "base_uri": "https://localhost:8080/",
          "height": 204
        },
        "outputId": "05d34da7-60b9-4594-e4a9-1c599b414781"
      },
      "source": [
        "# Which city has the highest average rent?\n",
        "df.groupby('city')['valor_aluguel'].median().reset_index().sort_values(\n",
        "    by='valor_aluguel',\n",
        "    ascending=False)"
      ],
      "execution_count": 38,
      "outputs": [
        {
          "output_type": "execute_result",
          "data": {
            "text/html": [
              "<div>\n",
              "<style scoped>\n",
              "    .dataframe tbody tr th:only-of-type {\n",
              "        vertical-align: middle;\n",
              "    }\n",
              "\n",
              "    .dataframe tbody tr th {\n",
              "        vertical-align: top;\n",
              "    }\n",
              "\n",
              "    .dataframe thead th {\n",
              "        text-align: right;\n",
              "    }\n",
              "</style>\n",
              "<table border=\"1\" class=\"dataframe\">\n",
              "  <thead>\n",
              "    <tr style=\"text-align: right;\">\n",
              "      <th></th>\n",
              "      <th>city</th>\n",
              "      <th>valor_aluguel</th>\n",
              "    </tr>\n",
              "  </thead>\n",
              "  <tbody>\n",
              "    <tr>\n",
              "      <th>4</th>\n",
              "      <td>São Paulo</td>\n",
              "      <td>3400</td>\n",
              "    </tr>\n",
              "    <tr>\n",
              "      <th>0</th>\n",
              "      <td>Belo Horizonte</td>\n",
              "      <td>2300</td>\n",
              "    </tr>\n",
              "    <tr>\n",
              "      <th>3</th>\n",
              "      <td>Rio de Janeiro</td>\n",
              "      <td>2300</td>\n",
              "    </tr>\n",
              "    <tr>\n",
              "      <th>2</th>\n",
              "      <td>Porto Alegre</td>\n",
              "      <td>1650</td>\n",
              "    </tr>\n",
              "    <tr>\n",
              "      <th>1</th>\n",
              "      <td>Campinas</td>\n",
              "      <td>1500</td>\n",
              "    </tr>\n",
              "  </tbody>\n",
              "</table>\n",
              "</div>"
            ],
            "text/plain": [
              "             city  valor_aluguel\n",
              "4       São Paulo           3400\n",
              "0  Belo Horizonte           2300\n",
              "3  Rio de Janeiro           2300\n",
              "2    Porto Alegre           1650\n",
              "1        Campinas           1500"
            ]
          },
          "metadata": {
            "tags": []
          },
          "execution_count": 38
        }
      ]
    },
    {
      "cell_type": "code",
      "metadata": {
        "id": "gfHEPv9gJAOr",
        "colab_type": "code",
        "colab": {}
      },
      "source": [
        "# How many bathrooms are there on average in higher rented homes?\n",
        "## definition: higher rents, values above 5k\n",
        "\n",
        "#Column creation for high or low rent\n",
        "df['aluguel_alto'] = ['Alto' if x > 5000 else 'Baixo' for x in df['valor_aluguel']]"
      ],
      "execution_count": 0,
      "outputs": []
    },
    {
      "cell_type": "code",
      "metadata": {
        "id": "7vNuw2QTKkYr",
        "colab_type": "code",
        "colab": {
          "base_uri": "https://localhost:8080/",
          "height": 68
        },
        "outputId": "e149603d-d116-4ad3-8d37-a20756f6456b"
      },
      "source": [
        "# Counts values\n",
        "df['aluguel_alto'].value_counts()"
      ],
      "execution_count": 43,
      "outputs": [
        {
          "output_type": "execute_result",
          "data": {
            "text/plain": [
              "Baixo    8153\n",
              "Alto     2539\n",
              "Name: aluguel_alto, dtype: int64"
            ]
          },
          "metadata": {
            "tags": []
          },
          "execution_count": 43
        }
      ]
    },
    {
      "cell_type": "code",
      "metadata": {
        "id": "n2U995KkKkeG",
        "colab_type": "code",
        "colab": {
          "base_uri": "https://localhost:8080/",
          "height": 85
        },
        "outputId": "d69fe4d0-443e-4eae-a7f2-8a6325c99635"
      },
      "source": [
        "# Answering the question:\n",
        "## On average the houses with more expensive rents, have around 4 bathrooms\n",
        "df.groupby('aluguel_alto')['bathroom'].mean()"
      ],
      "execution_count": 45,
      "outputs": [
        {
          "output_type": "execute_result",
          "data": {
            "text/plain": [
              "aluguel_alto\n",
              "Alto     3.729027\n",
              "Baixo    1.772108\n",
              "Name: bathroom, dtype: float64"
            ]
          },
          "metadata": {
            "tags": []
          },
          "execution_count": 45
        }
      ]
    },
    {
      "cell_type": "code",
      "metadata": {
        "id": "4mTkW8bwKkiT",
        "colab_type": "code",
        "colab": {}
      },
      "source": [
        "# Do the most expensive properties accept animals?\n",
        "## Data adjustment \"acept = 1\" and \"not acept = 0\"\n",
        "df['animal'] = [1 if x == 'acept' else 0 for x in df['animal']]"
      ],
      "execution_count": 0,
      "outputs": []
    },
    {
      "cell_type": "code",
      "metadata": {
        "id": "r7oBdT70NKde",
        "colab_type": "code",
        "colab": {
          "base_uri": "https://localhost:8080/",
          "height": 68
        },
        "outputId": "51cb708b-97d0-4c61-b7e5-d69083a2ebbe"
      },
      "source": [
        "# Answering the question:\n",
        "## Lower rents are more likely to accept animals\n",
        "df[df['animal'] == 1]['aluguel_alto'].value_counts()"
      ],
      "execution_count": 58,
      "outputs": [
        {
          "output_type": "execute_result",
          "data": {
            "text/plain": [
              "Baixo    6232\n",
              "Alto     2084\n",
              "Name: aluguel_alto, dtype: int64"
            ]
          },
          "metadata": {
            "tags": []
          },
          "execution_count": 58
        }
      ]
    },
    {
      "cell_type": "code",
      "metadata": {
        "id": "jROoJjdsOVlb",
        "colab_type": "code",
        "colab": {}
      },
      "source": [
        "# Are the most expensive properties furnished?\n",
        "## Data adjustment \"furnished = 1\" and \"not furnished = 0\"\n",
        "df['furniture'] = [1 if x == 'furnished' else 0 for x in df['furniture'] ]"
      ],
      "execution_count": 0,
      "outputs": []
    },
    {
      "cell_type": "code",
      "metadata": {
        "id": "gjFjJW8tPBbr",
        "colab_type": "code",
        "colab": {
          "base_uri": "https://localhost:8080/",
          "height": 68
        },
        "outputId": "d06a0eef-2314-404e-a411-426a95e5bfc0"
      },
      "source": [
        "# Answering the question\n",
        "## Lower rents tend to be cheaper.\n",
        "df[df['furniture'] == 1]['aluguel_alto'].value_counts()"
      ],
      "execution_count": 63,
      "outputs": [
        {
          "output_type": "execute_result",
          "data": {
            "text/plain": [
              "Baixo    1728\n",
              "Alto      878\n",
              "Name: aluguel_alto, dtype: int64"
            ]
          },
          "metadata": {
            "tags": []
          },
          "execution_count": 63
        }
      ]
    },
    {
      "cell_type": "markdown",
      "metadata": {
        "id": "BsabpxMNFYFa",
        "colab_type": "text"
      },
      "source": [
        "Hipóteses\n",
        "\n",
        "> Vai do senso comum<br />\n",
        "> Correlação é uma boa medida para validar as hipóteses\n",
        "\n",
        "* São Paulo é a cidade com o aluguel mais caro.\n",
        "* Quanto mais banheiro em um imóvel maior o valor do aluguel\n",
        "* Os imóveis com mobilia tem o aluguel mais alto\n"
      ]
    },
    {
      "cell_type": "markdown",
      "metadata": {
        "id": "BN4ZhDpKNecW",
        "colab_type": "text"
      },
      "source": [
        "Hypotheses\n",
        "\n",
        "> It goes from common sense<br />\n",
        "> Correlation is a good measure to validate the hypotheses\n",
        "\n",
        "* São Paulo is the city with the most expensive rent.\n",
        "* The more bathroom in a property the higher the rent\n",
        "* Furnished properties have the highest rent"
      ]
    },
    {
      "cell_type": "code",
      "metadata": {
        "id": "4Lz-o2JerJuQ",
        "colab_type": "code",
        "colab": {
          "base_uri": "https://localhost:8080/",
          "height": 111
        },
        "outputId": "18fbc5af-c918-4a26-e413-1c2097b5cb1c"
      },
      "source": [
        "# The more bathroom in a property, the higher the rent\n",
        "## Thus, it is possible to verify that there is a correlation between the variables\n",
        "df[['valor_aluguel','bathroom']].corr()"
      ],
      "execution_count": 71,
      "outputs": [
        {
          "output_type": "execute_result",
          "data": {
            "text/html": [
              "<div>\n",
              "<style scoped>\n",
              "    .dataframe tbody tr th:only-of-type {\n",
              "        vertical-align: middle;\n",
              "    }\n",
              "\n",
              "    .dataframe tbody tr th {\n",
              "        vertical-align: top;\n",
              "    }\n",
              "\n",
              "    .dataframe thead th {\n",
              "        text-align: right;\n",
              "    }\n",
              "</style>\n",
              "<table border=\"1\" class=\"dataframe\">\n",
              "  <thead>\n",
              "    <tr style=\"text-align: right;\">\n",
              "      <th></th>\n",
              "      <th>valor_aluguel</th>\n",
              "      <th>bathroom</th>\n",
              "    </tr>\n",
              "  </thead>\n",
              "  <tbody>\n",
              "    <tr>\n",
              "      <th>valor_aluguel</th>\n",
              "      <td>1.000000</td>\n",
              "      <td>0.668504</td>\n",
              "    </tr>\n",
              "    <tr>\n",
              "      <th>bathroom</th>\n",
              "      <td>0.668504</td>\n",
              "      <td>1.000000</td>\n",
              "    </tr>\n",
              "  </tbody>\n",
              "</table>\n",
              "</div>"
            ],
            "text/plain": [
              "               valor_aluguel  bathroom\n",
              "valor_aluguel       1.000000  0.668504\n",
              "bathroom            0.668504  1.000000"
            ]
          },
          "metadata": {
            "tags": []
          },
          "execution_count": 71
        }
      ]
    },
    {
      "cell_type": "code",
      "metadata": {
        "id": "cEicLD11twfo",
        "colab_type": "code",
        "colab": {
          "base_uri": "https://localhost:8080/",
          "height": 204
        },
        "outputId": "5c6c6cfd-233a-428a-dac3-17809f304a2c"
      },
      "source": [
        "# Creating a DataFrame with columns and their types\n",
        "aux = pd.DataFrame({'coluna':df.columns, 'tipos': df.dtypes})\n",
        "\n",
        "# Creating a list to return only the entire data\n",
        "list_aux = list(aux[aux['tipos'] == 'int64']['coluna'])\n",
        "list_aux"
      ],
      "execution_count": 83,
      "outputs": [
        {
          "output_type": "execute_result",
          "data": {
            "text/plain": [
              "['area',\n",
              " 'rooms',\n",
              " 'bathroom',\n",
              " 'parking spaces',\n",
              " 'animal',\n",
              " 'furniture',\n",
              " 'hoa (R$)',\n",
              " 'valor_aluguel',\n",
              " 'property tax (R$)',\n",
              " 'fire insurance (R$)',\n",
              " 'total (R$)']"
            ]
          },
          "metadata": {
            "tags": []
          },
          "execution_count": 83
        }
      ]
    },
    {
      "cell_type": "code",
      "metadata": {
        "id": "n04rNMBquDmS",
        "colab_type": "code",
        "colab": {
          "base_uri": "https://localhost:8080/",
          "height": 1000
        },
        "outputId": "ddb8b2de-ba5f-455d-dd70-84c6195fc9b4"
      },
      "source": [
        "# View of columns that correlate with rent\n",
        "for coluna in list_aux:\n",
        "  print('Coluna: {0}'.format(coluna))\n",
        "  print(df[['valor_aluguel', coluna]].corr(method='spearman'))\n",
        "  print('\\n')"
      ],
      "execution_count": 92,
      "outputs": [
        {
          "output_type": "stream",
          "text": [
            "Coluna: area\n",
            "               valor_aluguel      area\n",
            "valor_aluguel       1.000000  0.728095\n",
            "area                0.728095  1.000000\n",
            "\n",
            "\n",
            "Coluna: rooms\n",
            "               valor_aluguel     rooms\n",
            "valor_aluguel       1.000000  0.600969\n",
            "rooms               0.600969  1.000000\n",
            "\n",
            "\n",
            "Coluna: bathroom\n",
            "               valor_aluguel  bathroom\n",
            "valor_aluguel        1.00000   0.71589\n",
            "bathroom             0.71589   1.00000\n",
            "\n",
            "\n",
            "Coluna: parking spaces\n",
            "                valor_aluguel  parking spaces\n",
            "valor_aluguel        1.000000        0.620175\n",
            "parking spaces       0.620175        1.000000\n",
            "\n",
            "\n",
            "Coluna: animal\n",
            "               valor_aluguel    animal\n",
            "valor_aluguel       1.000000  0.082569\n",
            "animal              0.082569  1.000000\n",
            "\n",
            "\n",
            "Coluna: furniture\n",
            "               valor_aluguel  furniture\n",
            "valor_aluguel        1.00000    0.21823\n",
            "furniture            0.21823    1.00000\n",
            "\n",
            "\n",
            "Coluna: hoa (R$)\n",
            "               valor_aluguel  hoa (R$)\n",
            "valor_aluguel       1.000000  0.355785\n",
            "hoa (R$)            0.355785  1.000000\n",
            "\n",
            "\n",
            "Coluna: valor_aluguel\n",
            "               valor_aluguel  valor_aluguel\n",
            "valor_aluguel            1.0            1.0\n",
            "valor_aluguel            1.0            1.0\n",
            "\n",
            "\n",
            "Coluna: property tax (R$)\n",
            "                   valor_aluguel  property tax (R$)\n",
            "valor_aluguel            1.00000            0.65923\n",
            "property tax (R$)        0.65923            1.00000\n",
            "\n",
            "\n",
            "Coluna: fire insurance (R$)\n",
            "                     valor_aluguel  fire insurance (R$)\n",
            "valor_aluguel             1.000000             0.988045\n",
            "fire insurance (R$)       0.988045             1.000000\n",
            "\n",
            "\n",
            "Coluna: total (R$)\n",
            "               valor_aluguel  total (R$)\n",
            "valor_aluguel       1.000000    0.968176\n",
            "total (R$)          0.968176    1.000000\n",
            "\n",
            "\n"
          ],
          "name": "stdout"
        }
      ]
    },
    {
      "cell_type": "code",
      "metadata": {
        "id": "g8xjAXgDtgyk",
        "colab_type": "code",
        "colab": {
          "base_uri": "https://localhost:8080/",
          "height": 272
        },
        "outputId": "8a819ec3-b471-44a1-cdf8-585e1fda9d9b"
      },
      "source": [
        "# Verificação da correlação entre todas as variáveis numericas\n",
        "df.dtypes"
      ],
      "execution_count": 74,
      "outputs": [
        {
          "output_type": "execute_result",
          "data": {
            "text/plain": [
              "city                   object\n",
              "area                    int64\n",
              "rooms                   int64\n",
              "bathroom                int64\n",
              "parking spaces          int64\n",
              "floor                  object\n",
              "animal                  int64\n",
              "furniture               int64\n",
              "hoa (R$)                int64\n",
              "valor_aluguel           int64\n",
              "property tax (R$)       int64\n",
              "fire insurance (R$)     int64\n",
              "total (R$)              int64\n",
              "aluguel_alto           object\n",
              "dtype: object"
            ]
          },
          "metadata": {
            "tags": []
          },
          "execution_count": 74
        }
      ]
    }
  ]
}