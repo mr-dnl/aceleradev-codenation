{
  "nbformat": 4,
  "nbformat_minor": 0,
  "metadata": {
    "colab": {
      "name": "aceleradev-semana2",
      "provenance": [],
      "collapsed_sections": [],
      "authorship_tag": "ABX9TyMyxIZwqKCJ3LAOa6ZFiGZz",
      "include_colab_link": true
    },
    "kernelspec": {
      "name": "python3",
      "display_name": "Python 3"
    }
  },
  "cells": [
    {
      "cell_type": "markdown",
      "metadata": {
        "id": "view-in-github",
        "colab_type": "text"
      },
      "source": [
        "<a href=\"https://colab.research.google.com/github/mr-dnl/aceleradev-codenation/blob/master/aceleradev_semana2.ipynb\" target=\"_parent\"><img src=\"https://colab.research.google.com/assets/colab-badge.svg\" alt=\"Open In Colab\"/></a>"
      ]
    },
    {
      "cell_type": "markdown",
      "metadata": {
        "id": "9NEUZoKMjJra",
        "colab_type": "text"
      },
      "source": [
        "\n",
        "<h1><strong>AceleraDev Codenation - Semana 2</strong></h1>\n",
        "\n",
        "<strong>*Daniel Santos Pereira | Data & B.I Analyst | Machine Learning in Training | MCP*</strong>"
      ]
    },
    {
      "cell_type": "markdown",
      "metadata": {
        "id": "VVDtxVT-ArAd",
        "colab_type": "text"
      },
      "source": [
        "\n",
        "# **Manipulando Dados**\n"
      ]
    },
    {
      "cell_type": "code",
      "metadata": {
        "id": "ueCQTWwUBi10",
        "colab_type": "code",
        "colab": {}
      },
      "source": [
        "#Importação dos pacotes\n",
        "import pandas as pd\n",
        "import numpy as np"
      ],
      "execution_count": 0,
      "outputs": []
    },
    {
      "cell_type": "code",
      "metadata": {
        "id": "OWOnxgDoBsVJ",
        "colab_type": "code",
        "colab": {}
      },
      "source": [
        "#Acessando o help dos pacotes\n",
        "pd?"
      ],
      "execution_count": 0,
      "outputs": []
    },
    {
      "cell_type": "markdown",
      "metadata": {
        "id": "wl5BJ46CB9m4",
        "colab_type": "text"
      },
      "source": [
        "## **Dicionários**\n",
        "\n"
      ]
    },
    {
      "cell_type": "code",
      "metadata": {
        "id": "Flh9omN2B8j5",
        "colab_type": "code",
        "colab": {}
      },
      "source": [
        "#Criando um dicionário com os dados\n",
        "dados = {'canal_vendas' : ['Facebook', 'twitter', 'intagram', 'linkedin', 'facebook'],\n",
        "         'acessos': [100, 200, 300, 400, 500],\n",
        "         'site': ['site1', 'site1', 'site2', 'site2', 'site3'],\n",
        "         'vendas': [1000.52, 1052.34, 2009, 5000, 300]}"
      ],
      "execution_count": 0,
      "outputs": []
    },
    {
      "cell_type": "code",
      "metadata": {
        "id": "DM6ZB0qTDUkW",
        "colab_type": "code",
        "colab": {
          "base_uri": "https://localhost:8080/",
          "height": 85
        },
        "outputId": "51ab4894-9097-4079-b4f6-31a54db877b4"
      },
      "source": [
        "#Para printar o dicionário\n",
        "dados"
      ],
      "execution_count": 43,
      "outputs": [
        {
          "output_type": "execute_result",
          "data": {
            "text/plain": [
              "{'acessos': [100, 200, 300, 400, 500],\n",
              " 'canal_vendas': ['Facebook', 'twitter', 'intagram', 'linkedin', 'facebook'],\n",
              " 'site': ['site1', 'site1', 'site2', 'site2', 'site3'],\n",
              " 'vendas': [1000.52, 1052.34, 2009, 5000, 300]}"
            ]
          },
          "metadata": {
            "tags": []
          },
          "execution_count": 43
        }
      ]
    },
    {
      "cell_type": "code",
      "metadata": {
        "id": "p0gNKBx2DUnf",
        "colab_type": "code",
        "colab": {
          "base_uri": "https://localhost:8080/",
          "height": 34
        },
        "outputId": "e05f0346-b2b2-4735-c76a-7a770bf9c99e"
      },
      "source": [
        "#verificando o tipo de dicionario\n",
        "type(dados)"
      ],
      "execution_count": 44,
      "outputs": [
        {
          "output_type": "execute_result",
          "data": {
            "text/plain": [
              "dict"
            ]
          },
          "metadata": {
            "tags": []
          },
          "execution_count": 44
        }
      ]
    },
    {
      "cell_type": "code",
      "metadata": {
        "id": "d_tSgGtUDUsp",
        "colab_type": "code",
        "colab": {
          "base_uri": "https://localhost:8080/",
          "height": 34
        },
        "outputId": "3cb5a538-9682-4fbe-bb28-659202ae4bbc"
      },
      "source": [
        "#Acessando a chaves do meu dicionário\n",
        "dados.keys()"
      ],
      "execution_count": 45,
      "outputs": [
        {
          "output_type": "execute_result",
          "data": {
            "text/plain": [
              "dict_keys(['canal_vendas', 'acessos', 'site', 'vendas'])"
            ]
          },
          "metadata": {
            "tags": []
          },
          "execution_count": 45
        }
      ]
    },
    {
      "cell_type": "code",
      "metadata": {
        "id": "WcKbf_wUDUyq",
        "colab_type": "code",
        "colab": {
          "base_uri": "https://localhost:8080/",
          "height": 34
        },
        "outputId": "2d7f3455-7a66-47ea-cea5-3341ff8cec34"
      },
      "source": [
        "#Acessando uma chave especifíca * Lembrar que ele é case-sensitive\n",
        "dados['canal_vendas']"
      ],
      "execution_count": 46,
      "outputs": [
        {
          "output_type": "execute_result",
          "data": {
            "text/plain": [
              "['Facebook', 'twitter', 'intagram', 'linkedin', 'facebook']"
            ]
          },
          "metadata": {
            "tags": []
          },
          "execution_count": 46
        }
      ]
    },
    {
      "cell_type": "code",
      "metadata": {
        "id": "oCvQSbJpDUvy",
        "colab_type": "code",
        "colab": {
          "base_uri": "https://localhost:8080/",
          "height": 34
        },
        "outputId": "c9d0da05-815a-4161-b5e3-f513bc806f24"
      },
      "source": [
        "#Acessando uma posição/valor especifíco de um dicionário\n",
        "dados['canal_vendas'][2]"
      ],
      "execution_count": 47,
      "outputs": [
        {
          "output_type": "execute_result",
          "data": {
            "text/plain": [
              "'intagram'"
            ]
          },
          "metadata": {
            "tags": []
          },
          "execution_count": 47
        }
      ]
    },
    {
      "cell_type": "code",
      "metadata": {
        "id": "0kc7mEw1FDQv",
        "colab_type": "code",
        "colab": {
          "base_uri": "https://localhost:8080/",
          "height": 34
        },
        "outputId": "2ecb08e2-8bb8-4276-ad41-1810288415ef"
      },
      "source": [
        "#Acessando uma posição específica de um dicionário - slice\n",
        "print('Retorna todos os elementos do array: '+\n",
        "      str(dados['canal_vendas'][:]))"
      ],
      "execution_count": 48,
      "outputs": [
        {
          "output_type": "stream",
          "text": [
            "Retorna todos os elementos do array: ['Facebook', 'twitter', 'intagram', 'linkedin', 'facebook']\n"
          ],
          "name": "stdout"
        }
      ]
    },
    {
      "cell_type": "code",
      "metadata": {
        "id": "9WkW7XivIh05",
        "colab_type": "code",
        "colab": {
          "base_uri": "https://localhost:8080/",
          "height": 34
        },
        "outputId": "bda0398e-96a5-4575-fb21-21f7f37a1d36"
      },
      "source": [
        "#Acessando uma posição específica de um dicionário - slice\n",
        "print('Retorna todos os elementos até a posição definida: '+\n",
        "      str(dados['canal_vendas'][:4]))"
      ],
      "execution_count": 49,
      "outputs": [
        {
          "output_type": "stream",
          "text": [
            "Retorna todos os elementos até a posição definida: ['Facebook', 'twitter', 'intagram', 'linkedin']\n"
          ],
          "name": "stdout"
        }
      ]
    },
    {
      "cell_type": "code",
      "metadata": {
        "id": "k6fDr_eiIh7w",
        "colab_type": "code",
        "colab": {
          "base_uri": "https://localhost:8080/",
          "height": 34
        },
        "outputId": "81601360-d130-45aa-b412-83d83ef1593e"
      },
      "source": [
        "\n",
        "#Acessando uma posição específica de um dicionário - slice\n",
        "#dados['canal_vendas'][:4] # Retorna todos os elementos até a posição definida\n",
        "print('Retorna valor de acordo com o índice no array: '+\n",
        "      str(dados['canal_vendas'][2:4]))"
      ],
      "execution_count": 50,
      "outputs": [
        {
          "output_type": "stream",
          "text": [
            "Retorna valor de acordo com o índice no array: ['intagram', 'linkedin']\n"
          ],
          "name": "stdout"
        }
      ]
    },
    {
      "cell_type": "code",
      "metadata": {
        "id": "FL6qhd-qDUqq",
        "colab_type": "code",
        "colab": {}
      },
      "source": [
        "#Delete o objeto\n",
        "del dados"
      ],
      "execution_count": 0,
      "outputs": []
    },
    {
      "cell_type": "code",
      "metadata": {
        "id": "0wtYBJN7J7B4",
        "colab_type": "code",
        "colab": {}
      },
      "source": [
        ""
      ],
      "execution_count": 0,
      "outputs": []
    }
  ]
}