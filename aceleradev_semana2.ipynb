{
  "nbformat": 4,
  "nbformat_minor": 0,
  "metadata": {
    "colab": {
      "name": "aceleradev-semana2",
      "provenance": [],
      "collapsed_sections": [],
      "authorship_tag": "ABX9TyMT7J+3bENUpmmi1ALEKwqe"
    },
    "kernelspec": {
      "name": "python3",
      "display_name": "Python 3"
    }
  },
  "cells": [
    {
      "cell_type": "markdown",
      "metadata": {
        "id": "9NEUZoKMjJra",
        "colab_type": "text"
      },
      "source": [
        "\n",
        "<h1><strong>AceleraDev Codenation - Semana 2</strong></h1>\n",
        "\n",
        "<strong>*Daniel Santos Pereira | Data & B.I Analyst | Machine Learning in Training | MCP*</strong>"
      ]
    },
    {
      "cell_type": "markdown",
      "metadata": {
        "id": "VVDtxVT-ArAd",
        "colab_type": "text"
      },
      "source": [
        "\n",
        "# **Manipulando Dados**\n"
      ]
    },
    {
      "cell_type": "code",
      "metadata": {
        "id": "ueCQTWwUBi10",
        "colab_type": "code",
        "colab": {}
      },
      "source": [
        "#Importação dos pacotes\n",
        "import pandas as pd\n",
        "import numpy as np"
      ],
      "execution_count": 0,
      "outputs": []
    },
    {
      "cell_type": "code",
      "metadata": {
        "id": "OWOnxgDoBsVJ",
        "colab_type": "code",
        "colab": {}
      },
      "source": [
        "#Acessando o help dos pacotes\n",
        "pd?"
      ],
      "execution_count": 0,
      "outputs": []
    },
    {
      "cell_type": "markdown",
      "metadata": {
        "id": "wl5BJ46CB9m4",
        "colab_type": "text"
      },
      "source": [
        "## **Dicionários**\n",
        "\n"
      ]
    },
    {
      "cell_type": "code",
      "metadata": {
        "id": "Flh9omN2B8j5",
        "colab_type": "code",
        "colab": {}
      },
      "source": [
        "#Criando um dicionário com os dados\n",
        "dados = {'canal_vendas' : ['Facebook', 'twitter', 'intagram', 'linkedin', 'facebook'],\n",
        "         'acessos': [100, 200, 300, 400, 500],\n",
        "         'site': ['site1', 'site1', 'site2', 'site2', 'site3'],\n",
        "         'vendas': [1000.52, 1052.34, 2009, 5000, 300]}"
      ],
      "execution_count": 0,
      "outputs": []
    },
    {
      "cell_type": "code",
      "metadata": {
        "id": "DM6ZB0qTDUkW",
        "colab_type": "code",
        "outputId": "9e7801bc-f6c9-46e4-e32a-1c4a7d4bd4b4",
        "colab": {
          "base_uri": "https://localhost:8080/",
          "height": 85
        }
      },
      "source": [
        "#Para printar o dicionário\n",
        "dados"
      ],
      "execution_count": 3,
      "outputs": [
        {
          "output_type": "execute_result",
          "data": {
            "text/plain": [
              "{'acessos': [100, 200, 300, 400, 500],\n",
              " 'canal_vendas': ['Facebook', 'twitter', 'intagram', 'linkedin', 'facebook'],\n",
              " 'site': ['site1', 'site1', 'site2', 'site2', 'site3'],\n",
              " 'vendas': [1000.52, 1052.34, 2009, 5000, 300]}"
            ]
          },
          "metadata": {
            "tags": []
          },
          "execution_count": 3
        }
      ]
    },
    {
      "cell_type": "code",
      "metadata": {
        "id": "p0gNKBx2DUnf",
        "colab_type": "code",
        "outputId": "64a51264-db88-40b1-8eac-f9c3f78394d8",
        "colab": {
          "base_uri": "https://localhost:8080/",
          "height": 34
        }
      },
      "source": [
        "#verificando o tipo de dicionario\n",
        "type(dados)"
      ],
      "execution_count": 4,
      "outputs": [
        {
          "output_type": "execute_result",
          "data": {
            "text/plain": [
              "dict"
            ]
          },
          "metadata": {
            "tags": []
          },
          "execution_count": 4
        }
      ]
    },
    {
      "cell_type": "code",
      "metadata": {
        "id": "d_tSgGtUDUsp",
        "colab_type": "code",
        "outputId": "4df52c26-a86e-4fde-c8b1-b98e80beb2a0",
        "colab": {
          "base_uri": "https://localhost:8080/",
          "height": 34
        }
      },
      "source": [
        "#Acessando a chaves do meu dicionário\n",
        "dados.keys()"
      ],
      "execution_count": 5,
      "outputs": [
        {
          "output_type": "execute_result",
          "data": {
            "text/plain": [
              "dict_keys(['canal_vendas', 'acessos', 'site', 'vendas'])"
            ]
          },
          "metadata": {
            "tags": []
          },
          "execution_count": 5
        }
      ]
    },
    {
      "cell_type": "code",
      "metadata": {
        "id": "WcKbf_wUDUyq",
        "colab_type": "code",
        "outputId": "0a483cdb-b4e1-4a45-ec2e-3a4478b53396",
        "colab": {
          "base_uri": "https://localhost:8080/",
          "height": 34
        }
      },
      "source": [
        "#Acessando uma chave especifica * Lembrar que ele é case-sensitive\n",
        "dados['canal_vendas']"
      ],
      "execution_count": 6,
      "outputs": [
        {
          "output_type": "execute_result",
          "data": {
            "text/plain": [
              "['Facebook', 'twitter', 'intagram', 'linkedin', 'facebook']"
            ]
          },
          "metadata": {
            "tags": []
          },
          "execution_count": 6
        }
      ]
    },
    {
      "cell_type": "code",
      "metadata": {
        "id": "oCvQSbJpDUvy",
        "colab_type": "code",
        "outputId": "7820b175-7b6a-4cd6-e7ba-1b23e37ff902",
        "colab": {
          "base_uri": "https://localhost:8080/",
          "height": 34
        }
      },
      "source": [
        "#Acessando uma posição/valor especifíco de um dicionário\n",
        "dados['canal_vendas'][2]"
      ],
      "execution_count": 7,
      "outputs": [
        {
          "output_type": "execute_result",
          "data": {
            "text/plain": [
              "'intagram'"
            ]
          },
          "metadata": {
            "tags": []
          },
          "execution_count": 7
        }
      ]
    },
    {
      "cell_type": "code",
      "metadata": {
        "id": "0kc7mEw1FDQv",
        "colab_type": "code",
        "outputId": "fd3a8ce1-9cd8-4d43-b200-6a33f992391b",
        "colab": {
          "base_uri": "https://localhost:8080/",
          "height": 34
        }
      },
      "source": [
        "#Acessando uma posição especifica de um dicionário - slice\n",
        "print('Retorna todos os elementos do array: '+\n",
        "      str(dados['canal_vendas'][:]))"
      ],
      "execution_count": 8,
      "outputs": [
        {
          "output_type": "stream",
          "text": [
            "Retorna todos os elementos do array: ['Facebook', 'twitter', 'intagram', 'linkedin', 'facebook']\n"
          ],
          "name": "stdout"
        }
      ]
    },
    {
      "cell_type": "code",
      "metadata": {
        "id": "9WkW7XivIh05",
        "colab_type": "code",
        "outputId": "b9999e2c-7c6b-4b13-fa08-a00c4b857f57",
        "colab": {
          "base_uri": "https://localhost:8080/",
          "height": 34
        }
      },
      "source": [
        "#Acessando uma posição especifica de um dicionário - slice\n",
        "print('Retorna todos os elementos até a posição definida: '+\n",
        "      str(dados['canal_vendas'][:4]))"
      ],
      "execution_count": 9,
      "outputs": [
        {
          "output_type": "stream",
          "text": [
            "Retorna todos os elementos até a posição definida: ['Facebook', 'twitter', 'intagram', 'linkedin']\n"
          ],
          "name": "stdout"
        }
      ]
    },
    {
      "cell_type": "code",
      "metadata": {
        "id": "k6fDr_eiIh7w",
        "colab_type": "code",
        "outputId": "fa68ad96-7bc0-455e-b53f-09fd0b8add37",
        "colab": {
          "base_uri": "https://localhost:8080/",
          "height": 34
        }
      },
      "source": [
        "\n",
        "#Acessando uma posição especifica de um dicionário - slice\n",
        "#dados['canal_vendas'][:4] # Retorna todos os elementos até a posição definida\n",
        "print('Retorna valor de acordo com o índice no array: '+\n",
        "      str(dados['canal_vendas'][2:4]))"
      ],
      "execution_count": 10,
      "outputs": [
        {
          "output_type": "stream",
          "text": [
            "Retorna valor de acordo com o índice no array: ['intagram', 'linkedin']\n"
          ],
          "name": "stdout"
        }
      ]
    },
    {
      "cell_type": "markdown",
      "metadata": {
        "id": "02RsfGz8jaUh",
        "colab_type": "text"
      },
      "source": [
        "## **Lista**"
      ]
    },
    {
      "cell_type": "code",
      "metadata": {
        "id": "q94METtfjcj4",
        "colab_type": "code",
        "colab": {}
      },
      "source": [
        "#Criando uma lista\n",
        "lista = [200, 200, 300, 800, 300]"
      ],
      "execution_count": 0,
      "outputs": []
    },
    {
      "cell_type": "code",
      "metadata": {
        "id": "Urt0TJPcjwnr",
        "colab_type": "code",
        "outputId": "12902ffb-2b7c-442e-810c-a814ba63c1b9",
        "colab": {
          "base_uri": "https://localhost:8080/",
          "height": 34
        }
      },
      "source": [
        "#Printando a lista\n",
        "lista"
      ],
      "execution_count": 12,
      "outputs": [
        {
          "output_type": "execute_result",
          "data": {
            "text/plain": [
              "[200, 200, 300, 800, 300]"
            ]
          },
          "metadata": {
            "tags": []
          },
          "execution_count": 12
        }
      ]
    },
    {
      "cell_type": "code",
      "metadata": {
        "id": "7mm3WweJjyO4",
        "colab_type": "code",
        "outputId": "38b4c341-c9f6-4234-aec9-b429eef2011e",
        "colab": {
          "base_uri": "https://localhost:8080/",
          "height": 34
        }
      },
      "source": [
        "#Vendo valores específicos - O array é iniciado no 0\n",
        "lista[3]"
      ],
      "execution_count": 13,
      "outputs": [
        {
          "output_type": "execute_result",
          "data": {
            "text/plain": [
              "800"
            ]
          },
          "metadata": {
            "tags": []
          },
          "execution_count": 13
        }
      ]
    },
    {
      "cell_type": "code",
      "metadata": {
        "id": "DN91XwqRjyoV",
        "colab_type": "code",
        "outputId": "1d846b46-af44-44e6-ac3c-b6cfa446d9b2",
        "colab": {
          "base_uri": "https://localhost:8080/",
          "height": 34
        }
      },
      "source": [
        "#Fatia da lista (slice) -- A partir do índice 1, retorne até o quarto valor\n",
        "lista[1:4]"
      ],
      "execution_count": 14,
      "outputs": [
        {
          "output_type": "execute_result",
          "data": {
            "text/plain": [
              "[200, 300, 800]"
            ]
          },
          "metadata": {
            "tags": []
          },
          "execution_count": 14
        }
      ]
    },
    {
      "cell_type": "code",
      "metadata": {
        "id": "vJkrrZ5Yjy0K",
        "colab_type": "code",
        "colab": {}
      },
      "source": [
        "#Adicionando a lista ao dicionário\n",
        "dados['lista'] = lista"
      ],
      "execution_count": 0,
      "outputs": []
    },
    {
      "cell_type": "code",
      "metadata": {
        "id": "tGnKs13UlHau",
        "colab_type": "code",
        "outputId": "6eda0a3a-578c-4a78-b574-8474baf5ee84",
        "colab": {
          "base_uri": "https://localhost:8080/",
          "height": 102
        }
      },
      "source": [
        "dados"
      ],
      "execution_count": 16,
      "outputs": [
        {
          "output_type": "execute_result",
          "data": {
            "text/plain": [
              "{'acessos': [100, 200, 300, 400, 500],\n",
              " 'canal_vendas': ['Facebook', 'twitter', 'intagram', 'linkedin', 'facebook'],\n",
              " 'lista': [200, 200, 300, 800, 300],\n",
              " 'site': ['site1', 'site1', 'site2', 'site2', 'site3'],\n",
              " 'vendas': [1000.52, 1052.34, 2009, 5000, 300]}"
            ]
          },
          "metadata": {
            "tags": []
          },
          "execution_count": 16
        }
      ]
    },
    {
      "cell_type": "markdown",
      "metadata": {
        "id": "v416ua5ZmcRu",
        "colab_type": "text"
      },
      "source": [
        "## **DataFrames**"
      ]
    },
    {
      "cell_type": "code",
      "metadata": {
        "id": "bm7GBDQxmjYr",
        "colab_type": "code",
        "colab": {}
      },
      "source": [
        "#Criar um data frame a partir de um dict\n",
        "dataframe = pd.DataFrame(dados)"
      ],
      "execution_count": 0,
      "outputs": []
    },
    {
      "cell_type": "code",
      "metadata": {
        "id": "UgdFfFQ1jzf9",
        "colab_type": "code",
        "outputId": "920b237a-293c-45b4-fa4c-39ab538de33b",
        "colab": {
          "base_uri": "https://localhost:8080/",
          "height": 204
        }
      },
      "source": [
        "#Acessando o dataframe\n",
        "dataframe"
      ],
      "execution_count": 18,
      "outputs": [
        {
          "output_type": "execute_result",
          "data": {
            "text/html": [
              "<div>\n",
              "<style scoped>\n",
              "    .dataframe tbody tr th:only-of-type {\n",
              "        vertical-align: middle;\n",
              "    }\n",
              "\n",
              "    .dataframe tbody tr th {\n",
              "        vertical-align: top;\n",
              "    }\n",
              "\n",
              "    .dataframe thead th {\n",
              "        text-align: right;\n",
              "    }\n",
              "</style>\n",
              "<table border=\"1\" class=\"dataframe\">\n",
              "  <thead>\n",
              "    <tr style=\"text-align: right;\">\n",
              "      <th></th>\n",
              "      <th>canal_vendas</th>\n",
              "      <th>acessos</th>\n",
              "      <th>site</th>\n",
              "      <th>vendas</th>\n",
              "      <th>lista</th>\n",
              "    </tr>\n",
              "  </thead>\n",
              "  <tbody>\n",
              "    <tr>\n",
              "      <th>0</th>\n",
              "      <td>Facebook</td>\n",
              "      <td>100</td>\n",
              "      <td>site1</td>\n",
              "      <td>1000.52</td>\n",
              "      <td>200</td>\n",
              "    </tr>\n",
              "    <tr>\n",
              "      <th>1</th>\n",
              "      <td>twitter</td>\n",
              "      <td>200</td>\n",
              "      <td>site1</td>\n",
              "      <td>1052.34</td>\n",
              "      <td>200</td>\n",
              "    </tr>\n",
              "    <tr>\n",
              "      <th>2</th>\n",
              "      <td>intagram</td>\n",
              "      <td>300</td>\n",
              "      <td>site2</td>\n",
              "      <td>2009.00</td>\n",
              "      <td>300</td>\n",
              "    </tr>\n",
              "    <tr>\n",
              "      <th>3</th>\n",
              "      <td>linkedin</td>\n",
              "      <td>400</td>\n",
              "      <td>site2</td>\n",
              "      <td>5000.00</td>\n",
              "      <td>800</td>\n",
              "    </tr>\n",
              "    <tr>\n",
              "      <th>4</th>\n",
              "      <td>facebook</td>\n",
              "      <td>500</td>\n",
              "      <td>site3</td>\n",
              "      <td>300.00</td>\n",
              "      <td>300</td>\n",
              "    </tr>\n",
              "  </tbody>\n",
              "</table>\n",
              "</div>"
            ],
            "text/plain": [
              "  canal_vendas  acessos   site   vendas  lista\n",
              "0     Facebook      100  site1  1000.52    200\n",
              "1      twitter      200  site1  1052.34    200\n",
              "2     intagram      300  site2  2009.00    300\n",
              "3     linkedin      400  site2  5000.00    800\n",
              "4     facebook      500  site3   300.00    300"
            ]
          },
          "metadata": {
            "tags": []
          },
          "execution_count": 18
        }
      ]
    },
    {
      "cell_type": "code",
      "metadata": {
        "id": "qmO-V2W4G4M4",
        "colab_type": "code",
        "outputId": "66914c6c-23ba-4466-cb44-2bd67e5033a5",
        "colab": {
          "base_uri": "https://localhost:8080/",
          "height": 111
        }
      },
      "source": [
        "#Printando os primeiros casos do dataframe\n",
        "dataframe.head(2)"
      ],
      "execution_count": 19,
      "outputs": [
        {
          "output_type": "execute_result",
          "data": {
            "text/html": [
              "<div>\n",
              "<style scoped>\n",
              "    .dataframe tbody tr th:only-of-type {\n",
              "        vertical-align: middle;\n",
              "    }\n",
              "\n",
              "    .dataframe tbody tr th {\n",
              "        vertical-align: top;\n",
              "    }\n",
              "\n",
              "    .dataframe thead th {\n",
              "        text-align: right;\n",
              "    }\n",
              "</style>\n",
              "<table border=\"1\" class=\"dataframe\">\n",
              "  <thead>\n",
              "    <tr style=\"text-align: right;\">\n",
              "      <th></th>\n",
              "      <th>canal_vendas</th>\n",
              "      <th>acessos</th>\n",
              "      <th>site</th>\n",
              "      <th>vendas</th>\n",
              "      <th>lista</th>\n",
              "    </tr>\n",
              "  </thead>\n",
              "  <tbody>\n",
              "    <tr>\n",
              "      <th>0</th>\n",
              "      <td>Facebook</td>\n",
              "      <td>100</td>\n",
              "      <td>site1</td>\n",
              "      <td>1000.52</td>\n",
              "      <td>200</td>\n",
              "    </tr>\n",
              "    <tr>\n",
              "      <th>1</th>\n",
              "      <td>twitter</td>\n",
              "      <td>200</td>\n",
              "      <td>site1</td>\n",
              "      <td>1052.34</td>\n",
              "      <td>200</td>\n",
              "    </tr>\n",
              "  </tbody>\n",
              "</table>\n",
              "</div>"
            ],
            "text/plain": [
              "  canal_vendas  acessos   site   vendas  lista\n",
              "0     Facebook      100  site1  1000.52    200\n",
              "1      twitter      200  site1  1052.34    200"
            ]
          },
          "metadata": {
            "tags": []
          },
          "execution_count": 19
        }
      ]
    },
    {
      "cell_type": "code",
      "metadata": {
        "id": "i_aoIe-Hjzw-",
        "colab_type": "code",
        "outputId": "ab6abab4-2228-4b16-d8d3-343c4d242b1a",
        "colab": {
          "base_uri": "https://localhost:8080/",
          "height": 34
        }
      },
      "source": [
        "#Verificando o formado do dataframe (total de linhas e colunas)\n",
        "dataframe.shape"
      ],
      "execution_count": 20,
      "outputs": [
        {
          "output_type": "execute_result",
          "data": {
            "text/plain": [
              "(5, 5)"
            ]
          },
          "metadata": {
            "tags": []
          },
          "execution_count": 20
        }
      ]
    },
    {
      "cell_type": "code",
      "metadata": {
        "id": "EbLh923nj0AL",
        "colab_type": "code",
        "outputId": "226b6bf5-04fc-485e-ecc5-b8d6078a870b",
        "colab": {
          "base_uri": "https://localhost:8080/",
          "height": 34
        }
      },
      "source": [
        "#Verificando o índice do dataframe\n",
        "dataframe.index"
      ],
      "execution_count": 21,
      "outputs": [
        {
          "output_type": "execute_result",
          "data": {
            "text/plain": [
              "RangeIndex(start=0, stop=5, step=1)"
            ]
          },
          "metadata": {
            "tags": []
          },
          "execution_count": 21
        }
      ]
    },
    {
      "cell_type": "code",
      "metadata": {
        "id": "gwUJ3yhrj0dh",
        "colab_type": "code",
        "outputId": "067e306b-7da1-4501-ca0e-eb32b04a12f2",
        "colab": {
          "base_uri": "https://localhost:8080/",
          "height": 119
        }
      },
      "source": [
        "#Verificando os tipos dos dados do dataframe\n",
        "dataframe.dtypes"
      ],
      "execution_count": 22,
      "outputs": [
        {
          "output_type": "execute_result",
          "data": {
            "text/plain": [
              "canal_vendas     object\n",
              "acessos           int64\n",
              "site             object\n",
              "vendas          float64\n",
              "lista             int64\n",
              "dtype: object"
            ]
          },
          "metadata": {
            "tags": []
          },
          "execution_count": 22
        }
      ]
    },
    {
      "cell_type": "code",
      "metadata": {
        "id": "S1f_AA-sj0pL",
        "colab_type": "code",
        "outputId": "56bc1009-897a-4744-ab8f-2056db9827d7",
        "colab": {
          "base_uri": "https://localhost:8080/",
          "height": 204
        }
      },
      "source": [
        "#Verificando se existem valores faltantes\n",
        "dataframe.isna()"
      ],
      "execution_count": 23,
      "outputs": [
        {
          "output_type": "execute_result",
          "data": {
            "text/html": [
              "<div>\n",
              "<style scoped>\n",
              "    .dataframe tbody tr th:only-of-type {\n",
              "        vertical-align: middle;\n",
              "    }\n",
              "\n",
              "    .dataframe tbody tr th {\n",
              "        vertical-align: top;\n",
              "    }\n",
              "\n",
              "    .dataframe thead th {\n",
              "        text-align: right;\n",
              "    }\n",
              "</style>\n",
              "<table border=\"1\" class=\"dataframe\">\n",
              "  <thead>\n",
              "    <tr style=\"text-align: right;\">\n",
              "      <th></th>\n",
              "      <th>canal_vendas</th>\n",
              "      <th>acessos</th>\n",
              "      <th>site</th>\n",
              "      <th>vendas</th>\n",
              "      <th>lista</th>\n",
              "    </tr>\n",
              "  </thead>\n",
              "  <tbody>\n",
              "    <tr>\n",
              "      <th>0</th>\n",
              "      <td>False</td>\n",
              "      <td>False</td>\n",
              "      <td>False</td>\n",
              "      <td>False</td>\n",
              "      <td>False</td>\n",
              "    </tr>\n",
              "    <tr>\n",
              "      <th>1</th>\n",
              "      <td>False</td>\n",
              "      <td>False</td>\n",
              "      <td>False</td>\n",
              "      <td>False</td>\n",
              "      <td>False</td>\n",
              "    </tr>\n",
              "    <tr>\n",
              "      <th>2</th>\n",
              "      <td>False</td>\n",
              "      <td>False</td>\n",
              "      <td>False</td>\n",
              "      <td>False</td>\n",
              "      <td>False</td>\n",
              "    </tr>\n",
              "    <tr>\n",
              "      <th>3</th>\n",
              "      <td>False</td>\n",
              "      <td>False</td>\n",
              "      <td>False</td>\n",
              "      <td>False</td>\n",
              "      <td>False</td>\n",
              "    </tr>\n",
              "    <tr>\n",
              "      <th>4</th>\n",
              "      <td>False</td>\n",
              "      <td>False</td>\n",
              "      <td>False</td>\n",
              "      <td>False</td>\n",
              "      <td>False</td>\n",
              "    </tr>\n",
              "  </tbody>\n",
              "</table>\n",
              "</div>"
            ],
            "text/plain": [
              "   canal_vendas  acessos   site  vendas  lista\n",
              "0         False    False  False   False  False\n",
              "1         False    False  False   False  False\n",
              "2         False    False  False   False  False\n",
              "3         False    False  False   False  False\n",
              "4         False    False  False   False  False"
            ]
          },
          "metadata": {
            "tags": []
          },
          "execution_count": 23
        }
      ]
    },
    {
      "cell_type": "code",
      "metadata": {
        "id": "J2ecWMQSHbuc",
        "colab_type": "code",
        "outputId": "d849f9b2-7326-4bdd-c95e-e4a9196088ea",
        "colab": {
          "base_uri": "https://localhost:8080/",
          "height": 34
        }
      },
      "source": [
        "#Printando os nomes da colunas\n",
        "dataframe.columns"
      ],
      "execution_count": 24,
      "outputs": [
        {
          "output_type": "execute_result",
          "data": {
            "text/plain": [
              "Index(['canal_vendas', 'acessos', 'site', 'vendas', 'lista'], dtype='object')"
            ]
          },
          "metadata": {
            "tags": []
          },
          "execution_count": 24
        }
      ]
    },
    {
      "cell_type": "code",
      "metadata": {
        "id": "taZZgmz1HcBC",
        "colab_type": "code",
        "outputId": "892c1e4c-0c8b-4609-fb07-91f8aa78eac0",
        "colab": {
          "base_uri": "https://localhost:8080/",
          "height": 119
        }
      },
      "source": [
        "#Acessando uma coluna especifica\n",
        "dataframe['canal_vendas']"
      ],
      "execution_count": 25,
      "outputs": [
        {
          "output_type": "execute_result",
          "data": {
            "text/plain": [
              "0    Facebook\n",
              "1     twitter\n",
              "2    intagram\n",
              "3    linkedin\n",
              "4    facebook\n",
              "Name: canal_vendas, dtype: object"
            ]
          },
          "metadata": {
            "tags": []
          },
          "execution_count": 25
        }
      ]
    },
    {
      "cell_type": "code",
      "metadata": {
        "id": "3nwBHhKQIWCB",
        "colab_type": "code",
        "colab": {}
      },
      "source": [
        "#Criação de uma nova coluna\n",
        "dataframe['nova_coluna'] = [1, 2, 3, 4, 5]"
      ],
      "execution_count": 0,
      "outputs": []
    },
    {
      "cell_type": "code",
      "metadata": {
        "id": "cdPdRKjFHcwN",
        "colab_type": "code",
        "outputId": "fc65f4be-1628-4b75-92fb-b22d928c3b05",
        "colab": {
          "base_uri": "https://localhost:8080/",
          "height": 204
        }
      },
      "source": [
        "dataframe"
      ],
      "execution_count": 27,
      "outputs": [
        {
          "output_type": "execute_result",
          "data": {
            "text/html": [
              "<div>\n",
              "<style scoped>\n",
              "    .dataframe tbody tr th:only-of-type {\n",
              "        vertical-align: middle;\n",
              "    }\n",
              "\n",
              "    .dataframe tbody tr th {\n",
              "        vertical-align: top;\n",
              "    }\n",
              "\n",
              "    .dataframe thead th {\n",
              "        text-align: right;\n",
              "    }\n",
              "</style>\n",
              "<table border=\"1\" class=\"dataframe\">\n",
              "  <thead>\n",
              "    <tr style=\"text-align: right;\">\n",
              "      <th></th>\n",
              "      <th>canal_vendas</th>\n",
              "      <th>acessos</th>\n",
              "      <th>site</th>\n",
              "      <th>vendas</th>\n",
              "      <th>lista</th>\n",
              "      <th>nova_coluna</th>\n",
              "    </tr>\n",
              "  </thead>\n",
              "  <tbody>\n",
              "    <tr>\n",
              "      <th>0</th>\n",
              "      <td>Facebook</td>\n",
              "      <td>100</td>\n",
              "      <td>site1</td>\n",
              "      <td>1000.52</td>\n",
              "      <td>200</td>\n",
              "      <td>1</td>\n",
              "    </tr>\n",
              "    <tr>\n",
              "      <th>1</th>\n",
              "      <td>twitter</td>\n",
              "      <td>200</td>\n",
              "      <td>site1</td>\n",
              "      <td>1052.34</td>\n",
              "      <td>200</td>\n",
              "      <td>2</td>\n",
              "    </tr>\n",
              "    <tr>\n",
              "      <th>2</th>\n",
              "      <td>intagram</td>\n",
              "      <td>300</td>\n",
              "      <td>site2</td>\n",
              "      <td>2009.00</td>\n",
              "      <td>300</td>\n",
              "      <td>3</td>\n",
              "    </tr>\n",
              "    <tr>\n",
              "      <th>3</th>\n",
              "      <td>linkedin</td>\n",
              "      <td>400</td>\n",
              "      <td>site2</td>\n",
              "      <td>5000.00</td>\n",
              "      <td>800</td>\n",
              "      <td>4</td>\n",
              "    </tr>\n",
              "    <tr>\n",
              "      <th>4</th>\n",
              "      <td>facebook</td>\n",
              "      <td>500</td>\n",
              "      <td>site3</td>\n",
              "      <td>300.00</td>\n",
              "      <td>300</td>\n",
              "      <td>5</td>\n",
              "    </tr>\n",
              "  </tbody>\n",
              "</table>\n",
              "</div>"
            ],
            "text/plain": [
              "  canal_vendas  acessos   site   vendas  lista  nova_coluna\n",
              "0     Facebook      100  site1  1000.52    200            1\n",
              "1      twitter      200  site1  1052.34    200            2\n",
              "2     intagram      300  site2  2009.00    300            3\n",
              "3     linkedin      400  site2  5000.00    800            4\n",
              "4     facebook      500  site3   300.00    300            5"
            ]
          },
          "metadata": {
            "tags": []
          },
          "execution_count": 27
        }
      ]
    },
    {
      "cell_type": "code",
      "metadata": {
        "id": "w6ftWWdWHc6t",
        "colab_type": "code",
        "outputId": "ef8e6d86-7299-472a-9189-4868895b0791",
        "colab": {
          "base_uri": "https://localhost:8080/",
          "height": 34
        }
      },
      "source": [
        "dataframe.columns"
      ],
      "execution_count": 28,
      "outputs": [
        {
          "output_type": "execute_result",
          "data": {
            "text/plain": [
              "Index(['canal_vendas', 'acessos', 'site', 'vendas', 'lista', 'nova_coluna'], dtype='object')"
            ]
          },
          "metadata": {
            "tags": []
          },
          "execution_count": 28
        }
      ]
    },
    {
      "cell_type": "code",
      "metadata": {
        "id": "bAeb-pqyHdFo",
        "colab_type": "code",
        "colab": {}
      },
      "source": [
        "#Removendo colunas    -- sem a cláusula inplace = True,\n",
        "                    # -- as colunas não são removidas, somente não aparecem mais\n",
        "dataframe.drop(columns = ['nova_coluna'], inplace=True)"
      ],
      "execution_count": 0,
      "outputs": []
    },
    {
      "cell_type": "code",
      "metadata": {
        "id": "fl54DlqQHdOU",
        "colab_type": "code",
        "outputId": "04fc2a60-d13b-4d17-dd37-d139f7971679",
        "colab": {
          "base_uri": "https://localhost:8080/",
          "height": 34
        }
      },
      "source": [
        "#Mostrondo as colunas\n",
        "dataframe.columns"
      ],
      "execution_count": 30,
      "outputs": [
        {
          "output_type": "execute_result",
          "data": {
            "text/plain": [
              "Index(['canal_vendas', 'acessos', 'site', 'vendas', 'lista'], dtype='object')"
            ]
          },
          "metadata": {
            "tags": []
          },
          "execution_count": 30
        }
      ]
    },
    {
      "cell_type": "code",
      "metadata": {
        "id": "DDmZ_eRaHdWF",
        "colab_type": "code",
        "outputId": "79dbbed2-a210-4fb3-9c9b-f23997a495c7",
        "colab": {
          "base_uri": "https://localhost:8080/",
          "height": 34
        }
      },
      "source": [
        "#Acessando valores especificos\n",
        "dataframe['acessos'][1]"
      ],
      "execution_count": 31,
      "outputs": [
        {
          "output_type": "execute_result",
          "data": {
            "text/plain": [
              "200"
            ]
          },
          "metadata": {
            "tags": []
          },
          "execution_count": 31
        }
      ]
    },
    {
      "cell_type": "code",
      "metadata": {
        "id": "5PYmvD25Hdcf",
        "colab_type": "code",
        "outputId": "786f227c-2070-44fb-d09a-89723c293401",
        "colab": {
          "base_uri": "https://localhost:8080/",
          "height": 68
        }
      },
      "source": [
        "#Acessando fatia de coluna especifica\n",
        "dataframe['canal_vendas'][:2]"
      ],
      "execution_count": 32,
      "outputs": [
        {
          "output_type": "execute_result",
          "data": {
            "text/plain": [
              "0    Facebook\n",
              "1     twitter\n",
              "Name: canal_vendas, dtype: object"
            ]
          },
          "metadata": {
            "tags": []
          },
          "execution_count": 32
        }
      ]
    },
    {
      "cell_type": "code",
      "metadata": {
        "id": "oFD4cFn7Hdi9",
        "colab_type": "code",
        "outputId": "07776967-520a-47e8-a548-ba188b89a370",
        "colab": {
          "base_uri": "https://localhost:8080/",
          "height": 204
        }
      },
      "source": [
        "dataframe"
      ],
      "execution_count": 33,
      "outputs": [
        {
          "output_type": "execute_result",
          "data": {
            "text/html": [
              "<div>\n",
              "<style scoped>\n",
              "    .dataframe tbody tr th:only-of-type {\n",
              "        vertical-align: middle;\n",
              "    }\n",
              "\n",
              "    .dataframe tbody tr th {\n",
              "        vertical-align: top;\n",
              "    }\n",
              "\n",
              "    .dataframe thead th {\n",
              "        text-align: right;\n",
              "    }\n",
              "</style>\n",
              "<table border=\"1\" class=\"dataframe\">\n",
              "  <thead>\n",
              "    <tr style=\"text-align: right;\">\n",
              "      <th></th>\n",
              "      <th>canal_vendas</th>\n",
              "      <th>acessos</th>\n",
              "      <th>site</th>\n",
              "      <th>vendas</th>\n",
              "      <th>lista</th>\n",
              "    </tr>\n",
              "  </thead>\n",
              "  <tbody>\n",
              "    <tr>\n",
              "      <th>0</th>\n",
              "      <td>Facebook</td>\n",
              "      <td>100</td>\n",
              "      <td>site1</td>\n",
              "      <td>1000.52</td>\n",
              "      <td>200</td>\n",
              "    </tr>\n",
              "    <tr>\n",
              "      <th>1</th>\n",
              "      <td>twitter</td>\n",
              "      <td>200</td>\n",
              "      <td>site1</td>\n",
              "      <td>1052.34</td>\n",
              "      <td>200</td>\n",
              "    </tr>\n",
              "    <tr>\n",
              "      <th>2</th>\n",
              "      <td>intagram</td>\n",
              "      <td>300</td>\n",
              "      <td>site2</td>\n",
              "      <td>2009.00</td>\n",
              "      <td>300</td>\n",
              "    </tr>\n",
              "    <tr>\n",
              "      <th>3</th>\n",
              "      <td>linkedin</td>\n",
              "      <td>400</td>\n",
              "      <td>site2</td>\n",
              "      <td>5000.00</td>\n",
              "      <td>800</td>\n",
              "    </tr>\n",
              "    <tr>\n",
              "      <th>4</th>\n",
              "      <td>facebook</td>\n",
              "      <td>500</td>\n",
              "      <td>site3</td>\n",
              "      <td>300.00</td>\n",
              "      <td>300</td>\n",
              "    </tr>\n",
              "  </tbody>\n",
              "</table>\n",
              "</div>"
            ],
            "text/plain": [
              "  canal_vendas  acessos   site   vendas  lista\n",
              "0     Facebook      100  site1  1000.52    200\n",
              "1      twitter      200  site1  1052.34    200\n",
              "2     intagram      300  site2  2009.00    300\n",
              "3     linkedin      400  site2  5000.00    800\n",
              "4     facebook      500  site3   300.00    300"
            ]
          },
          "metadata": {
            "tags": []
          },
          "execution_count": 33
        }
      ]
    },
    {
      "cell_type": "code",
      "metadata": {
        "id": "two6W8btHdoH",
        "colab_type": "code",
        "outputId": "66ab4c2d-82ec-4db5-d4a2-3bd689a8afe1",
        "colab": {
          "base_uri": "https://localhost:8080/",
          "height": 111
        }
      },
      "source": [
        "#Fatiando os dados usando o iloc (linhas / colunas)\n",
        "dataframe.iloc[3:,4:]"
      ],
      "execution_count": 34,
      "outputs": [
        {
          "output_type": "execute_result",
          "data": {
            "text/html": [
              "<div>\n",
              "<style scoped>\n",
              "    .dataframe tbody tr th:only-of-type {\n",
              "        vertical-align: middle;\n",
              "    }\n",
              "\n",
              "    .dataframe tbody tr th {\n",
              "        vertical-align: top;\n",
              "    }\n",
              "\n",
              "    .dataframe thead th {\n",
              "        text-align: right;\n",
              "    }\n",
              "</style>\n",
              "<table border=\"1\" class=\"dataframe\">\n",
              "  <thead>\n",
              "    <tr style=\"text-align: right;\">\n",
              "      <th></th>\n",
              "      <th>lista</th>\n",
              "    </tr>\n",
              "  </thead>\n",
              "  <tbody>\n",
              "    <tr>\n",
              "      <th>3</th>\n",
              "      <td>800</td>\n",
              "    </tr>\n",
              "    <tr>\n",
              "      <th>4</th>\n",
              "      <td>300</td>\n",
              "    </tr>\n",
              "  </tbody>\n",
              "</table>\n",
              "</div>"
            ],
            "text/plain": [
              "   lista\n",
              "3    800\n",
              "4    300"
            ]
          },
          "metadata": {
            "tags": []
          },
          "execution_count": 34
        }
      ]
    },
    {
      "cell_type": "code",
      "metadata": {
        "id": "4MlyEsIoHdty",
        "colab_type": "code",
        "outputId": "213bef23-e2db-43f6-dab7-ec0a1fbab199",
        "colab": {
          "base_uri": "https://localhost:8080/",
          "height": 173
        }
      },
      "source": [
        "#Fatiar os dados usando o loc (indice)\n",
        "dataframe.loc[:3]"
      ],
      "execution_count": 35,
      "outputs": [
        {
          "output_type": "execute_result",
          "data": {
            "text/html": [
              "<div>\n",
              "<style scoped>\n",
              "    .dataframe tbody tr th:only-of-type {\n",
              "        vertical-align: middle;\n",
              "    }\n",
              "\n",
              "    .dataframe tbody tr th {\n",
              "        vertical-align: top;\n",
              "    }\n",
              "\n",
              "    .dataframe thead th {\n",
              "        text-align: right;\n",
              "    }\n",
              "</style>\n",
              "<table border=\"1\" class=\"dataframe\">\n",
              "  <thead>\n",
              "    <tr style=\"text-align: right;\">\n",
              "      <th></th>\n",
              "      <th>canal_vendas</th>\n",
              "      <th>acessos</th>\n",
              "      <th>site</th>\n",
              "      <th>vendas</th>\n",
              "      <th>lista</th>\n",
              "    </tr>\n",
              "  </thead>\n",
              "  <tbody>\n",
              "    <tr>\n",
              "      <th>0</th>\n",
              "      <td>Facebook</td>\n",
              "      <td>100</td>\n",
              "      <td>site1</td>\n",
              "      <td>1000.52</td>\n",
              "      <td>200</td>\n",
              "    </tr>\n",
              "    <tr>\n",
              "      <th>1</th>\n",
              "      <td>twitter</td>\n",
              "      <td>200</td>\n",
              "      <td>site1</td>\n",
              "      <td>1052.34</td>\n",
              "      <td>200</td>\n",
              "    </tr>\n",
              "    <tr>\n",
              "      <th>2</th>\n",
              "      <td>intagram</td>\n",
              "      <td>300</td>\n",
              "      <td>site2</td>\n",
              "      <td>2009.00</td>\n",
              "      <td>300</td>\n",
              "    </tr>\n",
              "    <tr>\n",
              "      <th>3</th>\n",
              "      <td>linkedin</td>\n",
              "      <td>400</td>\n",
              "      <td>site2</td>\n",
              "      <td>5000.00</td>\n",
              "      <td>800</td>\n",
              "    </tr>\n",
              "  </tbody>\n",
              "</table>\n",
              "</div>"
            ],
            "text/plain": [
              "  canal_vendas  acessos   site   vendas  lista\n",
              "0     Facebook      100  site1  1000.52    200\n",
              "1      twitter      200  site1  1052.34    200\n",
              "2     intagram      300  site2  2009.00    300\n",
              "3     linkedin      400  site2  5000.00    800"
            ]
          },
          "metadata": {
            "tags": []
          },
          "execution_count": 35
        }
      ]
    },
    {
      "cell_type": "code",
      "metadata": {
        "id": "UHhpMsPlHdzT",
        "colab_type": "code",
        "colab": {
          "base_uri": "https://localhost:8080/",
          "height": 204
        },
        "outputId": "a1d6f3bc-8a3b-4fce-8b13-c1a0c3fafff6"
      },
      "source": [
        "#Selecionando colunas especificas\n",
        "dataframe[['canal_vendas','acessos']]\n"
      ],
      "execution_count": 37,
      "outputs": [
        {
          "output_type": "execute_result",
          "data": {
            "text/html": [
              "<div>\n",
              "<style scoped>\n",
              "    .dataframe tbody tr th:only-of-type {\n",
              "        vertical-align: middle;\n",
              "    }\n",
              "\n",
              "    .dataframe tbody tr th {\n",
              "        vertical-align: top;\n",
              "    }\n",
              "\n",
              "    .dataframe thead th {\n",
              "        text-align: right;\n",
              "    }\n",
              "</style>\n",
              "<table border=\"1\" class=\"dataframe\">\n",
              "  <thead>\n",
              "    <tr style=\"text-align: right;\">\n",
              "      <th></th>\n",
              "      <th>canal_vendas</th>\n",
              "      <th>acessos</th>\n",
              "    </tr>\n",
              "  </thead>\n",
              "  <tbody>\n",
              "    <tr>\n",
              "      <th>0</th>\n",
              "      <td>Facebook</td>\n",
              "      <td>100</td>\n",
              "    </tr>\n",
              "    <tr>\n",
              "      <th>1</th>\n",
              "      <td>twitter</td>\n",
              "      <td>200</td>\n",
              "    </tr>\n",
              "    <tr>\n",
              "      <th>2</th>\n",
              "      <td>intagram</td>\n",
              "      <td>300</td>\n",
              "    </tr>\n",
              "    <tr>\n",
              "      <th>3</th>\n",
              "      <td>linkedin</td>\n",
              "      <td>400</td>\n",
              "    </tr>\n",
              "    <tr>\n",
              "      <th>4</th>\n",
              "      <td>facebook</td>\n",
              "      <td>500</td>\n",
              "    </tr>\n",
              "  </tbody>\n",
              "</table>\n",
              "</div>"
            ],
            "text/plain": [
              "  canal_vendas  acessos\n",
              "0     Facebook      100\n",
              "1      twitter      200\n",
              "2     intagram      300\n",
              "3     linkedin      400\n",
              "4     facebook      500"
            ]
          },
          "metadata": {
            "tags": []
          },
          "execution_count": 37
        }
      ]
    },
    {
      "cell_type": "code",
      "metadata": {
        "id": "wwJvuobiHd4u",
        "colab_type": "code",
        "colab": {}
      },
      "source": [
        "# Passando os valores atraves de listas\n",
        "filtro = ['canal_vendas', 'acessos']"
      ],
      "execution_count": 0,
      "outputs": []
    },
    {
      "cell_type": "code",
      "metadata": {
        "id": "Fz1ZHflqHd-d",
        "colab_type": "code",
        "colab": {
          "base_uri": "https://localhost:8080/",
          "height": 204
        },
        "outputId": "201ee1dd-3139-4eba-b187-3e8cf497a793"
      },
      "source": [
        "dataframe[filtro]"
      ],
      "execution_count": 39,
      "outputs": [
        {
          "output_type": "execute_result",
          "data": {
            "text/html": [
              "<div>\n",
              "<style scoped>\n",
              "    .dataframe tbody tr th:only-of-type {\n",
              "        vertical-align: middle;\n",
              "    }\n",
              "\n",
              "    .dataframe tbody tr th {\n",
              "        vertical-align: top;\n",
              "    }\n",
              "\n",
              "    .dataframe thead th {\n",
              "        text-align: right;\n",
              "    }\n",
              "</style>\n",
              "<table border=\"1\" class=\"dataframe\">\n",
              "  <thead>\n",
              "    <tr style=\"text-align: right;\">\n",
              "      <th></th>\n",
              "      <th>canal_vendas</th>\n",
              "      <th>acessos</th>\n",
              "    </tr>\n",
              "  </thead>\n",
              "  <tbody>\n",
              "    <tr>\n",
              "      <th>0</th>\n",
              "      <td>Facebook</td>\n",
              "      <td>100</td>\n",
              "    </tr>\n",
              "    <tr>\n",
              "      <th>1</th>\n",
              "      <td>twitter</td>\n",
              "      <td>200</td>\n",
              "    </tr>\n",
              "    <tr>\n",
              "      <th>2</th>\n",
              "      <td>intagram</td>\n",
              "      <td>300</td>\n",
              "    </tr>\n",
              "    <tr>\n",
              "      <th>3</th>\n",
              "      <td>linkedin</td>\n",
              "      <td>400</td>\n",
              "    </tr>\n",
              "    <tr>\n",
              "      <th>4</th>\n",
              "      <td>facebook</td>\n",
              "      <td>500</td>\n",
              "    </tr>\n",
              "  </tbody>\n",
              "</table>\n",
              "</div>"
            ],
            "text/plain": [
              "  canal_vendas  acessos\n",
              "0     Facebook      100\n",
              "1      twitter      200\n",
              "2     intagram      300\n",
              "3     linkedin      400\n",
              "4     facebook      500"
            ]
          },
          "metadata": {
            "tags": []
          },
          "execution_count": 39
        }
      ]
    },
    {
      "cell_type": "code",
      "metadata": {
        "id": "zJWDhJLkHeDj",
        "colab_type": "code",
        "colab": {
          "base_uri": "https://localhost:8080/",
          "height": 221
        },
        "outputId": "8510eddf-28d9-4186-b652-1932eec5bb4c"
      },
      "source": [
        "# Usando o metódo info()\n",
        "dataframe.info()"
      ],
      "execution_count": 42,
      "outputs": [
        {
          "output_type": "stream",
          "text": [
            "<class 'pandas.core.frame.DataFrame'>\n",
            "RangeIndex: 5 entries, 0 to 4\n",
            "Data columns (total 5 columns):\n",
            " #   Column        Non-Null Count  Dtype  \n",
            "---  ------        --------------  -----  \n",
            " 0   canal_vendas  5 non-null      object \n",
            " 1   acessos       5 non-null      int64  \n",
            " 2   site          5 non-null      object \n",
            " 3   vendas        5 non-null      float64\n",
            " 4   lista         5 non-null      int64  \n",
            "dtypes: float64(1), int64(2), object(2)\n",
            "memory usage: 328.0+ bytes\n"
          ],
          "name": "stdout"
        }
      ]
    },
    {
      "cell_type": "code",
      "metadata": {
        "id": "lFwmhq_LjHJL",
        "colab_type": "code",
        "outputId": "0854bde3-1d3c-4bd1-d09b-eff9a9325d75",
        "colab": {
          "base_uri": "https://localhost:8080/",
          "height": 235
        }
      },
      "source": [
        "# Completando os valores faltantes usando fillna\n",
        "# Pivotando os dados (coluna)\n",
        "aux = dataframe.pivot(index= 'canal_vendas', columns='site', values='acessos').fillna(0)\n",
        "dataframe.pivot(index= 'canal_vendas', columns='site', values='acessos').fillna(0)"
      ],
      "execution_count": 46,
      "outputs": [
        {
          "output_type": "execute_result",
          "data": {
            "text/html": [
              "<div>\n",
              "<style scoped>\n",
              "    .dataframe tbody tr th:only-of-type {\n",
              "        vertical-align: middle;\n",
              "    }\n",
              "\n",
              "    .dataframe tbody tr th {\n",
              "        vertical-align: top;\n",
              "    }\n",
              "\n",
              "    .dataframe thead th {\n",
              "        text-align: right;\n",
              "    }\n",
              "</style>\n",
              "<table border=\"1\" class=\"dataframe\">\n",
              "  <thead>\n",
              "    <tr style=\"text-align: right;\">\n",
              "      <th>site</th>\n",
              "      <th>site1</th>\n",
              "      <th>site2</th>\n",
              "      <th>site3</th>\n",
              "    </tr>\n",
              "    <tr>\n",
              "      <th>canal_vendas</th>\n",
              "      <th></th>\n",
              "      <th></th>\n",
              "      <th></th>\n",
              "    </tr>\n",
              "  </thead>\n",
              "  <tbody>\n",
              "    <tr>\n",
              "      <th>Facebook</th>\n",
              "      <td>100.0</td>\n",
              "      <td>0.0</td>\n",
              "      <td>0.0</td>\n",
              "    </tr>\n",
              "    <tr>\n",
              "      <th>facebook</th>\n",
              "      <td>0.0</td>\n",
              "      <td>0.0</td>\n",
              "      <td>500.0</td>\n",
              "    </tr>\n",
              "    <tr>\n",
              "      <th>intagram</th>\n",
              "      <td>0.0</td>\n",
              "      <td>300.0</td>\n",
              "      <td>0.0</td>\n",
              "    </tr>\n",
              "    <tr>\n",
              "      <th>linkedin</th>\n",
              "      <td>0.0</td>\n",
              "      <td>400.0</td>\n",
              "      <td>0.0</td>\n",
              "    </tr>\n",
              "    <tr>\n",
              "      <th>twitter</th>\n",
              "      <td>200.0</td>\n",
              "      <td>0.0</td>\n",
              "      <td>0.0</td>\n",
              "    </tr>\n",
              "  </tbody>\n",
              "</table>\n",
              "</div>"
            ],
            "text/plain": [
              "site          site1  site2  site3\n",
              "canal_vendas                     \n",
              "Facebook      100.0    0.0    0.0\n",
              "facebook        0.0    0.0  500.0\n",
              "intagram        0.0  300.0    0.0\n",
              "linkedin        0.0  400.0    0.0\n",
              "twitter       200.0    0.0    0.0"
            ]
          },
          "metadata": {
            "tags": []
          },
          "execution_count": 46
        }
      ]
    },
    {
      "cell_type": "code",
      "metadata": {
        "id": "FL6qhd-qDUqq",
        "colab_type": "code",
        "colab": {
          "base_uri": "https://localhost:8080/",
          "height": 204
        },
        "outputId": "1f30be48-f0e9-41d1-9c28-61c29fdc7661"
      },
      "source": [
        "# Mudando as colunas usando o comando melt\n",
        "dataframe.melt(id_vars='site', value_vars=['canal_vendas'])"
      ],
      "execution_count": 45,
      "outputs": [
        {
          "output_type": "execute_result",
          "data": {
            "text/html": [
              "<div>\n",
              "<style scoped>\n",
              "    .dataframe tbody tr th:only-of-type {\n",
              "        vertical-align: middle;\n",
              "    }\n",
              "\n",
              "    .dataframe tbody tr th {\n",
              "        vertical-align: top;\n",
              "    }\n",
              "\n",
              "    .dataframe thead th {\n",
              "        text-align: right;\n",
              "    }\n",
              "</style>\n",
              "<table border=\"1\" class=\"dataframe\">\n",
              "  <thead>\n",
              "    <tr style=\"text-align: right;\">\n",
              "      <th></th>\n",
              "      <th>site</th>\n",
              "      <th>variable</th>\n",
              "      <th>value</th>\n",
              "    </tr>\n",
              "  </thead>\n",
              "  <tbody>\n",
              "    <tr>\n",
              "      <th>0</th>\n",
              "      <td>site1</td>\n",
              "      <td>canal_vendas</td>\n",
              "      <td>Facebook</td>\n",
              "    </tr>\n",
              "    <tr>\n",
              "      <th>1</th>\n",
              "      <td>site1</td>\n",
              "      <td>canal_vendas</td>\n",
              "      <td>twitter</td>\n",
              "    </tr>\n",
              "    <tr>\n",
              "      <th>2</th>\n",
              "      <td>site2</td>\n",
              "      <td>canal_vendas</td>\n",
              "      <td>intagram</td>\n",
              "    </tr>\n",
              "    <tr>\n",
              "      <th>3</th>\n",
              "      <td>site2</td>\n",
              "      <td>canal_vendas</td>\n",
              "      <td>linkedin</td>\n",
              "    </tr>\n",
              "    <tr>\n",
              "      <th>4</th>\n",
              "      <td>site3</td>\n",
              "      <td>canal_vendas</td>\n",
              "      <td>facebook</td>\n",
              "    </tr>\n",
              "  </tbody>\n",
              "</table>\n",
              "</div>"
            ],
            "text/plain": [
              "    site      variable     value\n",
              "0  site1  canal_vendas  Facebook\n",
              "1  site1  canal_vendas   twitter\n",
              "2  site2  canal_vendas  intagram\n",
              "3  site2  canal_vendas  linkedin\n",
              "4  site3  canal_vendas  facebook"
            ]
          },
          "metadata": {
            "tags": []
          },
          "execution_count": 45
        }
      ]
    },
    {
      "cell_type": "code",
      "metadata": {
        "id": "5xyC60qbTIpT",
        "colab_type": "code",
        "colab": {
          "base_uri": "https://localhost:8080/",
          "height": 51
        },
        "outputId": "c0f6b987-7841-4161-d666-c034bd737ba8"
      },
      "source": [
        "# Resetando o índice do dataframe\n",
        "print(aux.columns)\n",
        "aux = aux.reset_index()\n",
        "print(aux.columns)"
      ],
      "execution_count": 48,
      "outputs": [
        {
          "output_type": "stream",
          "text": [
            "Index(['site1', 'site2', 'site3'], dtype='object', name='site')\n",
            "Index(['canal_vendas', 'site1', 'site2', 'site3'], dtype='object', name='site')\n"
          ],
          "name": "stdout"
        }
      ]
    },
    {
      "cell_type": "code",
      "metadata": {
        "id": "TZvoYH72TI_H",
        "colab_type": "code",
        "colab": {
          "base_uri": "https://localhost:8080/",
          "height": 514
        },
        "outputId": "b95372ce-b82d-47ef-f7fa-60bef0ada30d"
      },
      "source": [
        "# Exemplo do comando melt\n",
        "aux.melt(id_vars='canal_vendas', value_vars=['site1','site2','site3'])"
      ],
      "execution_count": 49,
      "outputs": [
        {
          "output_type": "execute_result",
          "data": {
            "text/html": [
              "<div>\n",
              "<style scoped>\n",
              "    .dataframe tbody tr th:only-of-type {\n",
              "        vertical-align: middle;\n",
              "    }\n",
              "\n",
              "    .dataframe tbody tr th {\n",
              "        vertical-align: top;\n",
              "    }\n",
              "\n",
              "    .dataframe thead th {\n",
              "        text-align: right;\n",
              "    }\n",
              "</style>\n",
              "<table border=\"1\" class=\"dataframe\">\n",
              "  <thead>\n",
              "    <tr style=\"text-align: right;\">\n",
              "      <th></th>\n",
              "      <th>canal_vendas</th>\n",
              "      <th>site</th>\n",
              "      <th>value</th>\n",
              "    </tr>\n",
              "  </thead>\n",
              "  <tbody>\n",
              "    <tr>\n",
              "      <th>0</th>\n",
              "      <td>Facebook</td>\n",
              "      <td>site1</td>\n",
              "      <td>100.0</td>\n",
              "    </tr>\n",
              "    <tr>\n",
              "      <th>1</th>\n",
              "      <td>facebook</td>\n",
              "      <td>site1</td>\n",
              "      <td>0.0</td>\n",
              "    </tr>\n",
              "    <tr>\n",
              "      <th>2</th>\n",
              "      <td>intagram</td>\n",
              "      <td>site1</td>\n",
              "      <td>0.0</td>\n",
              "    </tr>\n",
              "    <tr>\n",
              "      <th>3</th>\n",
              "      <td>linkedin</td>\n",
              "      <td>site1</td>\n",
              "      <td>0.0</td>\n",
              "    </tr>\n",
              "    <tr>\n",
              "      <th>4</th>\n",
              "      <td>twitter</td>\n",
              "      <td>site1</td>\n",
              "      <td>200.0</td>\n",
              "    </tr>\n",
              "    <tr>\n",
              "      <th>5</th>\n",
              "      <td>Facebook</td>\n",
              "      <td>site2</td>\n",
              "      <td>0.0</td>\n",
              "    </tr>\n",
              "    <tr>\n",
              "      <th>6</th>\n",
              "      <td>facebook</td>\n",
              "      <td>site2</td>\n",
              "      <td>0.0</td>\n",
              "    </tr>\n",
              "    <tr>\n",
              "      <th>7</th>\n",
              "      <td>intagram</td>\n",
              "      <td>site2</td>\n",
              "      <td>300.0</td>\n",
              "    </tr>\n",
              "    <tr>\n",
              "      <th>8</th>\n",
              "      <td>linkedin</td>\n",
              "      <td>site2</td>\n",
              "      <td>400.0</td>\n",
              "    </tr>\n",
              "    <tr>\n",
              "      <th>9</th>\n",
              "      <td>twitter</td>\n",
              "      <td>site2</td>\n",
              "      <td>0.0</td>\n",
              "    </tr>\n",
              "    <tr>\n",
              "      <th>10</th>\n",
              "      <td>Facebook</td>\n",
              "      <td>site3</td>\n",
              "      <td>0.0</td>\n",
              "    </tr>\n",
              "    <tr>\n",
              "      <th>11</th>\n",
              "      <td>facebook</td>\n",
              "      <td>site3</td>\n",
              "      <td>500.0</td>\n",
              "    </tr>\n",
              "    <tr>\n",
              "      <th>12</th>\n",
              "      <td>intagram</td>\n",
              "      <td>site3</td>\n",
              "      <td>0.0</td>\n",
              "    </tr>\n",
              "    <tr>\n",
              "      <th>13</th>\n",
              "      <td>linkedin</td>\n",
              "      <td>site3</td>\n",
              "      <td>0.0</td>\n",
              "    </tr>\n",
              "    <tr>\n",
              "      <th>14</th>\n",
              "      <td>twitter</td>\n",
              "      <td>site3</td>\n",
              "      <td>0.0</td>\n",
              "    </tr>\n",
              "  </tbody>\n",
              "</table>\n",
              "</div>"
            ],
            "text/plain": [
              "   canal_vendas   site  value\n",
              "0      Facebook  site1  100.0\n",
              "1      facebook  site1    0.0\n",
              "2      intagram  site1    0.0\n",
              "3      linkedin  site1    0.0\n",
              "4       twitter  site1  200.0\n",
              "5      Facebook  site2    0.0\n",
              "6      facebook  site2    0.0\n",
              "7      intagram  site2  300.0\n",
              "8      linkedin  site2  400.0\n",
              "9       twitter  site2    0.0\n",
              "10     Facebook  site3    0.0\n",
              "11     facebook  site3  500.0\n",
              "12     intagram  site3    0.0\n",
              "13     linkedin  site3    0.0\n",
              "14      twitter  site3    0.0"
            ]
          },
          "metadata": {
            "tags": []
          },
          "execution_count": 49
        }
      ]
    }
  ]
}